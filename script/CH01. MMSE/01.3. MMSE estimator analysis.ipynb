{
 "cells": [
  {
   "cell_type": "markdown",
   "id": "3fbd15f2",
   "metadata": {},
   "source": [
    "# CH01.3. **MMSE estimator analysis**"
   ]
  },
  {
   "cell_type": "markdown",
   "id": "8bb3bae9",
   "metadata": {},
   "source": [
    "> ## **자명 추정기(Trivial estimator)**"
   ]
  },
  {
   "cell_type": "markdown",
   "id": "39f6efca",
   "metadata": {},
   "source": [
    "#### **(1) 정의** : 확률 벡터 $ \\textbf{X} $가 (닫힌) 부분공간 $ \\mathcal{V} $ 안에 포함되는 경우로 정의된 추정기\n",
    "#### $ \\Leftrightarrow{} \\hat{\\textbf{X}}^{*} = \\displaystyle{} \\argmin_{\\hat{\\textbf{X}} \\in{} \\mathcal{V}} \\mathbb{E}\\big[{}||\\textbf{X}-\\hat{\\textbf{X}}||^{2}_{2}\\big]{} \\;\\; \\text{ s.t. } \\, \\textbf{X} \\in{} \\mathcal{V} \\;\\; \\text{ where } \\, \\mathcal{V} \\subset{} L^{2}(\\Omega{}), \\;\\; \\mathcal{V} \\, \\text{ is closed}. $"
   ]
  },
  {
   "cell_type": "markdown",
   "id": "24423569",
   "metadata": {},
   "source": [
    "##### **(`PLUS`)** 유클리드 공간에서의 시각화\n",
    "##### $ \\hspace{0.15cm} $ <img src=\"../../img/01.3. MMSE estimator analysis (1).png\" align=\"center\" width=\"50%\" height=\"50%\"></img>  "
   ]
  },
  {
   "cell_type": "markdown",
   "id": "6347de08",
   "metadata": {},
   "source": [
    "#### **(2) 최적해** : \n",
    "#### $ \\Leftrightarrow{} \\hat{\\textbf{X}}^{*} = \\textbf{X} $"
   ]
  },
  {
   "cell_type": "markdown",
   "id": "6a585c04",
   "metadata": {},
   "source": [
    "#### **(3) 최소값** : \n",
    "#### $ \\Leftrightarrow{} \\displaystyle{} \\min_{\\hat{\\textbf{X}} \\in{} \\mathcal{V}} \\mathbb{E}\\big[{}||\\textbf{X}-\\hat{\\textbf{X}}||^{2}_{2}\\big]{} = \\mathbb{E}[||\\textbf{X}-\\hat{\\textbf{X}}^{*}||^{2}_{2}] = 0 $"
   ]
  },
  {
   "cell_type": "markdown",
   "id": "59cf0652",
   "metadata": {},
   "source": [
    "<b></b>"
   ]
  },
  {
   "cell_type": "markdown",
   "id": "2052678c",
   "metadata": {},
   "source": [
    "> ## **상수 추정기(Constant estimator)**"
   ]
  },
  {
   "cell_type": "markdown",
   "id": "021d9a6d",
   "metadata": {},
   "source": [
    "#### **(1) 정의** : 확률 벡터 $ \\textbf{X} $에 대한 추정기 $ \\hat{\\textbf{X}} $를 하나의 상수 벡터로 제한한 경우로 정의된 추정기\n",
    "#### $ \\Leftrightarrow{} \\hat{\\textbf{X}}^{*} = \\displaystyle{} \\argmin_{\\hat{\\textbf{X}}\\in{}\\mathcal{V}} \\mathbb{E}\\big[{}||\\textbf{X}-\\hat{\\textbf{X}}||^{2}_{2}\\big]{} \\;\\; \\text{ where } \\, \\mathcal{V} := \\{ \\hat{\\textbf{X}} \\in{} L^{2}(\\Omega{}) | \\hat{\\textbf{X}} = \\textbf{c}, \\;\\; \\textbf{c} \\in{} \\mathbb{R}^{m} \\} $"
   ]
  },
  {
   "cell_type": "markdown",
   "id": "44363582",
   "metadata": {},
   "source": [
    "#### **(2) 최적해** : \n",
    "#### $ \\Leftrightarrow{} \\hat{\\textbf{X}}^{*} = \\mathbb{E}[\\textbf{X}] $"
   ]
  },
  {
   "cell_type": "markdown",
   "id": "e488bfc8",
   "metadata": {},
   "source": [
    "##### **(`WHY?`)** \n",
    "##### $ \\hspace{0.15cm} \\text{method 1. vector differentiation} $\n",
    "##### $ \\hspace{0.3cm} \\text{define } \\, f(\\textbf{c}) = \\mathbb{E}[|| \\textbf{X} - \\textbf{c} ||^{2}_{2}] \\;\\; \\text{ where } \\, \\hat{\\textbf{X}} = \\textbf{c} \\in{} \\mathcal{V} \\subset{} \\mathbb{R}^{m} $\n",
    "##### $ \\hspace{0.3cm} \\nabla{}_{\\textbf{c}}f(\\textbf{c}) = \\frac{\\text{d}}{\\text{d}\\textbf{c}}\\bigg({}\\mathbb{E}[\\textbf{X}^{T}\\textbf{X}]-2\\textbf{c}^{T}\\mathbb{E}[\\textbf{X}] + \\textbf{c}^{T}\\textbf{c} \\bigg){} $\n",
    "##### $ \\hspace{1.5cm} = -2 \\mathbb{E}[\\textbf{X}] + 2 \\textbf{c} = \\textbf{0} \\;\\; \\because{} \\, f(\\textbf{c}) \\, \\text{ is convex function}. $\n",
    "##### $ \\hspace{0.3cm} \\therefore{} \\textbf{c}^{*} = \\mathbb{E}[\\textbf{X}] $ \n",
    "##### $ \\hspace{0.15cm} \\text{method 2. orthogonality principle} $\n",
    "##### $ \\hspace{0.3cm} \\text{define } \\, \\textbf{c} \\in{} \\mathcal{V} = \\text{span} \\big({} \\{ \\textbf{e}_{1}, \\textbf{e}_{2}, \\cdots{}, \\textbf{e}_{m} \\} \\big){} \\subset{} \\mathbb{R}^{m}, \\;\\; \\textbf{e}_{i} \\, \\text{ is standard basis vector}. $\n",
    "##### $ \\hspace{0.3cm} <\\textbf{X}-\\textbf{c}^{*}, \\textbf{c}> = \\mathbb{E}\\big[{}(\\textbf{X}-\\textbf{c}^{*})^{T}\\textbf{c}\\big]{} = (\\mathbb{E}[\\textbf{X}]-\\textbf{c}^{*})^{T}\\textbf{c} = 0 $\n",
    "##### $ \\hspace{0.3cm} \\therefore{} \\forall{} \\, \\textbf{c} \\in{} \\mathbb{R}^{m}, \\;\\; (\\mathbb{E}[\\textbf{X}]-\\textbf{c}^{*})^{T}\\textbf{c} = 0 \\; \\Rightarrow{} \\; \\textbf{c}^{*} = \\mathbb{E}[\\textbf{X}] $"
   ]
  },
  {
   "cell_type": "markdown",
   "id": "3c6f76c5",
   "metadata": {},
   "source": [
    "#### **(3) 최소값** : \n",
    "#### $ \\Leftrightarrow{} \\displaystyle{} \\min_{\\hat{\\textbf{X}} \\in{} \\mathcal{V}} \\mathbb{E}\\big[{}||\\textbf{X}-\\hat{\\textbf{X}}||^{2}_{2}\\big]{} = \\mathbb{E}[||\\textbf{X}-\\hat{\\textbf{X}}^{*}||^{2}_{2}] = \\text{tr}\\big({}\\text{cov}(\\textbf{X}, \\textbf{X})\\big){} $"
   ]
  },
  {
   "cell_type": "markdown",
   "id": "c9697f37",
   "metadata": {},
   "source": [
    "<b></b>"
   ]
  },
  {
   "cell_type": "markdown",
   "id": "97e990af",
   "metadata": {},
   "source": [
    "> ## **선형 추정기(Linear estimator)**"
   ]
  },
  {
   "cell_type": "markdown",
   "id": "7d7fb1f1",
   "metadata": {},
   "source": [
    "#### **(1) 정의** : 확률 벡터 $ \\textbf{X} $에 대한 추정기 $ \\hat{\\textbf{X}} $를 $ \\textbf{Y} $의 아핀(affine) 함수로 제한한 경우로 정의된 추정기\n",
    "#### $ \\Leftrightarrow{} \\hat{\\textbf{X}}^{*} =\\displaystyle{} \\argmin_{\\hat{\\textbf{X}}\\in{}\\mathcal{V}} \\mathbb{E}\\big[{}||\\textbf{X}-\\hat{\\textbf{X}}||^{2}_{2}\\big]{} \\;\\; \\text{ where } \\, \\mathcal{V} := \\{ \\hat{\\textbf{X}} \\in{} L^{2}(\\Omega{}) | \\hat{\\textbf{X}} = A\\textbf{Y}+\\textbf{b}, \\;\\; A \\in{} \\mathbb{R}^{m\\times{}n}, \\;\\; \\textbf{b} \\in{} \\mathbb{R}^{m} \\} $"
   ]
  },
  {
   "cell_type": "markdown",
   "id": "67ce7936",
   "metadata": {},
   "source": [
    "##### **(`PLUS`)** 일반적으로 $ \\textbf{X} $를 알고자 하나 직접 관측할 수 없는 확률 벡터(target R.V.), $ \\textbf{Y} $를 관측 가능한 확률 벡터(observation R.V)로 설정함 "
   ]
  },
  {
   "cell_type": "markdown",
   "id": "c3d55ee2",
   "metadata": {},
   "source": [
    "#### **(2) 최적해** : \n",
    "#### $ \\Leftrightarrow{} \\hat{\\textbf{X}^{*}} = A^{*} \\textbf{Y} + \\textbf{b}^{*} $\n",
    "#### $ \\text{where } \\, A^{*} = \\text{cov}(\\textbf{X},\\textbf{Y})\\text{cov}(\\textbf{Y},\\textbf{Y})^{-1} \\;\\; \\text{ s.t. } \\, \\text{cov}(\\textbf{Y},\\textbf{Y}) \\, \\text{ is invertible}. $\n",
    "#### $ \\hspace{0.35cm} \\text{and } \\, \\textbf{b}^{*} = \\mathbb{E}[\\textbf{X}] - A^{*} \\mathbb{E}[\\textbf{Y}] $"
   ]
  },
  {
   "cell_type": "markdown",
   "id": "2e97165f",
   "metadata": {},
   "source": [
    "##### **(`WHY?`)** \n",
    "##### $ \\hspace{0.15cm} \\text{method 1. vector differentiation} $\n",
    "##### $ \\hspace{0.3cm} $ **[LATEX]**\n",
    "##### $ \\hspace{0.15cm} \\text{method 2. orthogonality principle} $\n",
    "##### $ \\hspace{0.3cm} \\text{define } \\, \\mathcal{Y} = \\text{span} \\big({} \\{ \\textbf{Y} \\} \\big){}, \\;\\; \\textbf{c} \\in{} \\mathcal{C} = \\text{span} \\big({} \\{ \\textbf{e}_{1}, \\textbf{e}_{2}, \\cdots{}, \\textbf{e}_{m} \\} \\big){} $\n",
    "##### $ \\hspace{0.3cm} \\text{and } \\, \\mathcal{V} = \\mathcal{Y} \\oplus{} \\mathcal{C} = \\big({} \\{ \\textbf{Y}, \\textbf{e}_{1}, \\textbf{e}_{2}, \\cdots{}, \\textbf{e}_{m} \\} \\big){} $ \n",
    "##### $ \\hspace{0.3cm} \\text{let } \\, \\tilde{\\textbf{X}} := \\textbf{X} - \\mathbb{E}[\\textbf{X}], \\;\\; \\tilde{\\textbf{Y}} := \\textbf{Y} - \\mathbb{E}[\\textbf{Y}] \\;\\; (\\text{centralization}) $\n",
    "##### $ \\hspace{0.3cm} \\cdot{} \\, \\text{orthogonality to the constant subspace } \\, \\mathcal{C} $\n",
    "##### $ \\hspace{0.3cm} \\boldsymbol{\\epsilon{}} := \\textbf{X} - (A\\textbf{Y}+\\textbf{b}) = (\\tilde{\\textbf{X}} + \\mathbb{E}[\\textbf{X}]) - A(\\tilde{\\textbf{Y}} + \\mathbb{E}[\\textbf{Y}]) - \\textbf{b} $\n",
    "##### $ \\hspace{3.375cm} = (\\tilde{\\textbf{X}} - A\\tilde{\\textbf{Y}}) + (\\mathbb{E}[\\textbf{X}] - \\textbf{b} - A\\mathbb{E}[\\textbf{Y}]) $\n",
    "##### $ \\hspace{0.3cm} <\\boldsymbol{\\epsilon{}}^{*}, \\textbf{c}> = \\mathbb{E}[(\\boldsymbol{\\epsilon{}}^{*})^{T}\\textbf{c}] = (\\mathbb{E}[\\boldsymbol{\\epsilon{}}^{*}])^{T} \\textbf{c} = 0 \\;\\; \\because{} \\, \\boldsymbol{\\epsilon{}}^{*} \\perp{} \\mathcal{C} $\n",
    "##### $ \\hspace{0.3cm} \\forall{} \\, \\textbf{c} \\in{} \\mathbb{R}^{m}, \\;\\; (\\mathbb{E}[\\boldsymbol{\\epsilon{}}^{*}])^{T} \\textbf{c} = 0 \\; \\Rightarrow{} \\; \\mathbb{E}[\\boldsymbol{\\epsilon{}}^{*}] = \\textbf{0} $ \n",
    "##### $ \\hspace{0.3cm} \\mathbb{E}[\\boldsymbol{\\epsilon{}}^{*}] = \\mathbb{E}\\big[{} (\\tilde{\\textbf{X}} - A^{*}\\tilde{\\textbf{Y}}) + (\\mathbb{E}[\\textbf{X}] - \\textbf{b}^{*} - A^{*}\\mathbb{E}[\\textbf{Y}]) \\big]{} $ \n",
    "##### $ \\hspace{1.155cm} = \\mathbb{E}[\\tilde{\\textbf{X}}] - A^{*}\\mathbb{E}[\\tilde{\\textbf{Y}}] + \\mathbb{E}[\\textbf{X}] - \\textbf{b}^{*} - A^{*}\\mathbb{E}[\\textbf{Y}] $ \n",
    "##### $ \\hspace{1.155cm} = \\mathbb{E}[\\textbf{X}] - \\textbf{b}^{*} - A^{*}\\mathbb{E}[\\textbf{Y}] = \\textbf{0} $ \n",
    "##### $ \\hspace{0.3cm} \\textbf{b}^{*} = \\mathbb{E}[\\textbf{X}] - A^{*}\\mathbb{E}[\\textbf{Y}], \\;\\; \\boldsymbol{\\epsilon{}}^{*} = (\\tilde{\\textbf{X}} - A^{*}\\tilde{\\textbf{Y}}) $\n",
    "##### $ \\hspace{0.3cm} \\cdot{} \\, \\text{orthogonality to the } \\, Y \\text{-induced linear subspace } \\, \\mathcal{Y} $\n",
    "##### $ \\hspace{0.3cm} <\\boldsymbol{\\epsilon{}}^{*}, A\\textbf{Y}> = \\mathbb{E}[(\\boldsymbol{\\epsilon{}}^{*})^{T}A\\textbf{Y}] $\n",
    "##### $ \\hspace{2.1cm} = \\mathbb{E}\\bigg[{}\\text{tr}\\big({}(\\boldsymbol{\\epsilon{}}^{*})^{T}A\\textbf{Y}\\big){}\\bigg]{} \\;\\; \\because{} \\, (\\boldsymbol{\\epsilon{}}^{*})^{T}A\\textbf{Y} \\in{} \\mathbb{R}^{1\\times{}1} $\n",
    "##### $ \\hspace{2.1cm} = \\mathbb{E}\\bigg[{}\\text{tr}\\big({}A\\textbf{Y}(\\boldsymbol{\\epsilon{}}^{*})^{T}\\big){}\\bigg]{} \\;\\; \\because{} \\, \\text{tr}(BCD) = \\text{tr}(CBD), \\;\\; \\forall{} \\, BCD, CDB \\in{} \\mathbb{R}^{n\\times{}n} $\n",
    "##### $ \\hspace{2.1cm} = \\text{tr}\\bigg({}A\\mathbb{E}\\big[{}\\textbf{Y}(\\boldsymbol{\\epsilon{}}^{*})^{T}\\big]{}\\bigg){} = \\text{tr}\\bigg({}(A\\mathbb{E}\\big[{}\\textbf{Y}(\\boldsymbol{\\epsilon{}}^{*})^{T}\\big]{})^{T}\\bigg){} \\;\\; \\because{} \\, \\text{tr}(B) = \\text{tr}(B^{T}) $ \n",
    "##### $ \\hspace{2.1cm} = \\text{tr}\\bigg({}\\mathbb{E}\\big[{}\\boldsymbol{\\epsilon{}}^{*}\\textbf{Y}^{T}\\big]{}A^{T} \\bigg){}  = \\text{tr}\\bigg( A^{T}{}\\mathbb{E}\\big[{}\\boldsymbol{\\epsilon{}}^{*}\\textbf{Y}^{T}\\big]{} \\bigg){} $\n",
    "##### $ \\hspace{2.1cm} = <A, \\mathbb{E}\\big[{}\\boldsymbol{\\epsilon{}}^{*}\\textbf{Y}^{T}\\big]{}>_{\\text{F}} = 0 \\;\\; \\text{ where } \\, <\\cdot{}>_{\\text{F}} \\, \\text{ is frobenius inner prod}. $\n",
    "##### $ \\hspace{0.3cm} \\forall{} \\, A \\in{} \\mathbb{R}^{m\\times{}n}, \\;\\; <A, \\mathbb{E}[\\boldsymbol{\\epsilon{}}^{*}\\textbf{Y}^{T}]>_{\\text{F}} = 0 \\; \\Rightarrow{} \\; \\mathbb{E}\\big[{}\\boldsymbol{\\epsilon{}}^{*}\\textbf{Y}^{T}\\big]{} = 0_{m\\times{}n} $ \n",
    "##### $ \\hspace{0.3cm} \\mathbb{E}[\\boldsymbol{\\epsilon{}}^{*}\\textbf{Y}^{T}] = \\mathbb{E}\\big[{}(\\tilde{\\textbf{X}} - A\\tilde{\\textbf{Y}})(\\tilde{\\textbf{Y}}+\\mathbb{E}[\\textbf{Y}])^{T} \\big]{} $\n",
    "##### $ \\hspace{1.625cm} = \\mathbb{E}\\big[{}(\\tilde{\\textbf{X}} - A\\tilde{\\textbf{Y}})(\\tilde{\\textbf{Y}}^{T}+\\mathbb{E}[\\textbf{Y}]^{T}) \\big]{} = \\mathbb{E}\\big[{}(\\tilde{\\textbf{X}} - A\\tilde{\\textbf{Y}})\\tilde{\\textbf{Y}}^{T}+(\\tilde{\\textbf{X}} - A\\tilde{\\textbf{Y}})\\mathbb{E}[\\textbf{Y}]^{T} \\big]{} $\n",
    "##### $ \\hspace{1.625cm} = \\mathbb{E}\\big[{}\\tilde{\\textbf{X}}\\tilde{\\textbf{Y}}^{T} - A\\tilde{\\textbf{Y}}\\tilde{\\textbf{Y}}^{T} + \\mathbb{E}\\big[{}\\tilde{\\textbf{X}}\\big]\\mathbb{E}[\\textbf{Y}]^{T} - A\\tilde{\\textbf{Y}}\\mathbb{E}[\\textbf{Y}]^{T} \\big]{} $\n",
    "##### $ \\hspace{1.625cm} = \\mathbb{E}\\big[{}\\tilde{\\textbf{X}}\\tilde{\\textbf{Y}}^{T}\\big]{} - A\\mathbb{E}\\big[{}\\tilde{\\textbf{Y}}\\tilde{\\textbf{Y}}^{T}\\big]{} + \\mathbb{E}\\big[{}\\tilde{\\textbf{X}}\\big]{} \\mathbb{E}[\\textbf{Y}]^{T} - A\\mathbb{E}\\big[{}\\tilde{\\textbf{Y}}\\big]\\mathbb{E}[\\textbf{Y}]^{T} $\n",
    "##### $ \\hspace{1.625cm} = \\mathbb{E}\\big[{}\\tilde{\\textbf{X}}\\tilde{\\textbf{Y}}^{T}\\big]{} - A\\mathbb{E}\\big[{}\\tilde{\\textbf{Y}}\\tilde{\\textbf{Y}}^{T}\\big]{} \\;\\; \\because{} \\, \\mathbb{E}[\\tilde{\\textbf{X}}] = \\mathbb{E}[\\tilde{\\textbf{Y}}] = \\textbf{0} $\n",
    "##### $ \\hspace{1.625cm} = \\mathbb{E}\\big[{}(\\textbf{X} - \\mathbb{E}[\\textbf{X}])(\\textbf{Y} - \\mathbb{E}[\\textbf{Y}])^{T}\\big]{} - A\\mathbb{E}\\big[{}(\\textbf{Y} - \\mathbb{E}[\\textbf{Y}])(\\textbf{Y} - \\mathbb{E}[\\textbf{Y}])^{T}\\big]{} $\n",
    "##### $ \\hspace{1.625cm} = \\text{cov}(\\textbf{X},\\textbf{Y}) - A \\text{cov}(\\textbf{Y},\\textbf{Y}) = 0_{m\\times{}n} $\n",
    "##### $ \\hspace{0.3cm} A^{*} = \\text{cov}(\\textbf{X},\\textbf{Y})\\text{cov}(\\textbf{Y},\\textbf{Y})^{-1} \\;\\; \\text{ s.t. } \\, \\text{cov}(\\textbf{Y},\\textbf{Y}) \\, \\text{ is invertible}. $\n",
    "##### $ \\hspace{0.15cm} \\therefore{} A^{*} = \\text{cov}(\\textbf{X},\\textbf{Y})\\text{cov}(\\textbf{Y},\\textbf{Y})^{-1}, \\;\\; \\textbf{b}^{*} = \\mathbb{E}[\\textbf{X}] - A^{*}\\mathbb{E}[\\textbf{Y}] \\;\\; \\text{ s.t. } \\, \\text{cov}(\\textbf{Y},\\textbf{Y}) \\, \\text{ is invertible}. $"
   ]
  },
  {
   "cell_type": "markdown",
   "id": "c625168e",
   "metadata": {},
   "source": [
    "##### **(`PLUS`)** $ \\text{cov}(\\textbf{Y}, \\textbf{Y}) $가 역행렬이 존재하지 않는다면, 유사 역행렬(pesudoinverse matrix)을 구해서 근사함"
   ]
  },
  {
   "cell_type": "markdown",
   "id": "7ba3595b",
   "metadata": {},
   "source": [
    "#### **(3) 최소값** : \n",
    "#### $ \\Leftrightarrow{} \\displaystyle{} \\min_{\\hat{\\textbf{X}} \\in{} \\mathcal{V}} \\mathbb{E}\\big[{}||\\textbf{X}-\\hat{\\textbf{X}}||^{2}_{2}\\big]{} = \\mathbb{E}[||\\textbf{X}-\\hat{\\textbf{X}}^{*}||^{2}_{2}] $\n",
    "#### $ \\hspace{3.3675cm} = \\text{tr}\\big({}\\text{cov}(\\textbf{X}, \\textbf{X}) - \\text{cov}(\\textbf{X}, \\textbf{Y}) \\text{cov}(\\textbf{Y}, \\textbf{Y})^{-1} \\text{cov}(\\textbf{Y}, \\textbf{X}) \\big){} $"
   ]
  },
  {
   "cell_type": "markdown",
   "id": "30c48e8d",
   "metadata": {},
   "source": [
    "<b></b>"
   ]
  },
  {
   "cell_type": "markdown",
   "id": "62094685",
   "metadata": {},
   "source": [
    "> ## **비선형 추정기(Non-linear estimator)**"
   ]
  },
  {
   "cell_type": "markdown",
   "id": "fcf7c302",
   "metadata": {},
   "source": [
    "#### **(1) 정의** : 확률 벡터 $ \\textbf{X} $에 대한 추정기 $ \\hat{\\textbf{X}} $를 $ \\textbf{Y} $의 비선형 함수로 제한한 경우로 정의된 추정기\n",
    "#### $ \\Leftrightarrow{} \\hat{\\textbf{X}}^{*} = \\displaystyle{} \\argmin_{\\hat{\\textbf{X}}\\in{}\\mathcal{V}} \\mathbb{E}\\big[{}||\\textbf{X}-\\hat{\\textbf{X}}||^{2}_{2}\\big]{} \\;\\; \\text{ where } \\, \\mathcal{V} := \\{ \\hat{\\textbf{X}} \\in{} L^{2}(\\Omega{}) | \\hat{\\textbf{X}} = g(\\textbf{Y}), \\;\\; g : \\mathbb{R}^{n} \\rightarrow{} \\mathbb{R}^{m}, \\;\\; g(\\cdot{}) \\, \\text{ is measurable}. \\} $"
   ]
  },
  {
   "cell_type": "markdown",
   "id": "759fa393",
   "metadata": {},
   "source": [
    "#### **(2) 최적해** : \n",
    "#### $ \\Leftrightarrow{} \\hat{\\textbf{X}^{*}} = \\mathbb{E}[\\textbf{X}|\\textbf{Y}] $"
   ]
  },
  {
   "cell_type": "markdown",
   "id": "9bbd00f4",
   "metadata": {},
   "source": [
    "##### **(`WHY?`)** \n",
    "##### $ \\hspace{0.15cm} $ **[LATEX]** (46~48p)"
   ]
  },
  {
   "cell_type": "markdown",
   "id": "a3c74a93",
   "metadata": {},
   "source": [
    "#### **(3) 최소값** : \n",
    "#### $ \\Leftrightarrow{} \\displaystyle{} \\min_{\\hat{\\textbf{X}} \\in{} \\mathcal{V}} \\mathbb{E}\\big[{}||\\textbf{X}-\\hat{\\textbf{X}}||^{2}_{2}\\big]{} = \\mathbb{E}[||\\textbf{X}-\\hat{\\textbf{X}}^{*}||^{2}_{2}] = \\mathbb{E}[||\\textbf{X}-\\mathbb{E}[\\textbf{X}|\\textbf{Y}]||^{2}_{2}] $"
   ]
  },
  {
   "cell_type": "markdown",
   "id": "834ae02b",
   "metadata": {},
   "source": [
    "<b></b>"
   ]
  },
  {
   "cell_type": "markdown",
   "id": "591ec6a1",
   "metadata": {},
   "source": [
    "> ## **(Theorem 1-5)** Estimator hierarchy and MSE monotonicity"
   ]
  },
  {
   "cell_type": "markdown",
   "id": "66ea36f7",
   "metadata": {},
   "source": [
    "#### **(1)** 상수 추정기(의 부분공간)는 선형 추정기의 부분공간이고, 선형 추정기는 확률 벡터 $ \\textbf{Y} $의 비선형(모든 측정가능한) 의 부분공간이다.\n",
    "#### $ \\Leftrightarrow{} \\mathcal{V}_{\\text{constant}} \\subset{} \\mathcal{V}_{\\text{linear}} \\subset{} \\mathcal{V}_{\\text{non-linear}} $"
   ]
  },
  {
   "cell_type": "markdown",
   "id": "c3f75708",
   "metadata": {},
   "source": [
    "#### **(2)** 부분공간이 확장될수록 MSE 문제에서 $ \\textbf{X} $를 더 잘 근사할 수 있다.\n",
    "#### $ \\Leftrightarrow{} \\displaystyle{} \\min_{\\hat{\\textbf{X}} \\in{} \\mathcal{V}_{\\text{non-linear}}} \\mathbb{E}\\big[{}||\\textbf{X}-\\hat{\\textbf{X}}||^{2}_{2}\\big]{} \\leq{} \\min_{\\hat{\\textbf{X}} \\in{} \\mathcal{V}_{\\text{linear}}} \\mathbb{E}\\big[{}||\\textbf{X}-\\hat{\\textbf{X}}||^{2}_{2}\\big]{} \\leq{} \\min_{\\hat{\\textbf{X}} \\in{} \\mathcal{V}_{\\text{constant}}} \\mathbb{E}\\big[{}||\\textbf{X}-\\hat{\\textbf{X}}||^{2}_{2}\\big]{} \\;\\; \\because{} \\, \\text{theorem 1-5} $"
   ]
  },
  {
   "cell_type": "markdown",
   "id": "4b16c91a",
   "metadata": {},
   "source": [
    "<b></b>"
   ]
  },
  {
   "cell_type": "markdown",
   "id": "d98103c3",
   "metadata": {},
   "source": [
    "> ## **(Theorem 1-6)** Equivalence of LMMSE and MMSE"
   ]
  },
  {
   "cell_type": "markdown",
   "id": "7a3bbff7",
   "metadata": {},
   "source": [
    "#### 두 확률 벡터 $ \\textbf{X}, \\textbf{Y} $의 결합 확률 분포가 정규분포라면 LMMSE는 MMSE와 동일하다.\n",
    "#### $ \\Leftrightarrow{} \\min_{\\hat{\\textbf{X}} \\in{} \\mathcal{V}_{\\text{non-linear}}} \\mathbb{E}\\big[{}||\\textbf{X}-\\hat{\\textbf{X}}||^{2}_{2}\\big]{} = \\min_{\\hat{\\textbf{X}} \\in{} \\mathcal{V}_{\\text{linear}}} \\mathbb{E}\\big[{}||\\textbf{X}-\\hat{\\textbf{X}}||^{2}_{2}\\big]{} $\n",
    "#### $ \\hspace{0.45cm} \\text{s.t. } \\, \\begin{bmatrix} \\textbf{X} \\\\ \\textbf{Y} \\end{bmatrix} \\sim{} N(\\begin{bmatrix} \\mathbb{E}[\\textbf{X}] \\\\ \\mathbb{E}[\\textbf{Y}] \\end{bmatrix}, \\begin{bmatrix} \\text{cov}(\\textbf{X}, \\textbf{X}) & \\text{cov}(\\textbf{X}, \\textbf{Y}) \\\\ \\text{cov}(\\textbf{X}, \\textbf{Y}) & \\text{cov}(\\textbf{Y}, \\textbf{Y}) \\end{bmatrix}) $ "
   ]
  },
  {
   "cell_type": "markdown",
   "id": "9931ccaa",
   "metadata": {},
   "source": [
    "##### **(`WHY?`)** \n",
    "##### $ \\hspace{0.15cm} $ **[LATEX]**"
   ]
  }
 ],
 "metadata": {
  "kernelspec": {
   "display_name": "PYTCH",
   "language": "python",
   "name": "python3"
  },
  "language_info": {
   "name": "python",
   "version": "3.12.11"
  }
 },
 "nbformat": 4,
 "nbformat_minor": 5
}
