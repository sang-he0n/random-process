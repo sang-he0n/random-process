{
 "cells": [
  {
   "cell_type": "markdown",
   "id": "27de5a30",
   "metadata": {},
   "source": [
    "# CH00.5. **Quiz**"
   ]
  },
  {
   "cell_type": "markdown",
   "id": "c44ec490",
   "metadata": {},
   "source": [
    "> ## **Q1. Independence**"
   ]
  },
  {
   "cell_type": "markdown",
   "id": "60f2bb60",
   "metadata": {},
   "source": [
    "#### Let $ X_{1} $ and $ X_{2} $ be two independent random variables taking values in $ \\{0,1\\} $, where $ P(X_{i} = 0) = P(X_{i} = 1) = 0.5 \\, $ for $ i = 1,2 $.  \n",
    "#### Let $ X_{3} = X_{1} \\oplus{} X_{2}, $ i.e., the Boolean exclusive-OR (XOR) of $ X_{1} $ and $ X_{2} $.\n",
    "---"
   ]
  },
  {
   "cell_type": "markdown",
   "id": "73589f09",
   "metadata": {},
   "source": [
    "#### **(1)** Are $ X_{1} $, $ X_{2} $ and $ X_{3} $ mutually independent? Justify your answer.\n",
    "#### $ \\cdot{} \\text{marginal pmf} $\n",
    "#### $ \\hspace{0.15cm} X_{i} : \\Omega{} \\rightarrow{} \\{ 0, 1\\} \\;\\; \\text{ for } \\, i = 1, 2 $\n",
    "#### $ \\hspace{0.15cm} P_{X_{i}}(x_{i}) = \\begin{cases} 0.5, & \\text{if } \\; x_{i} \\in{} \\{ 0, 1 \\} \\\\ 0, & \\text{otherwise} \\end{cases} \\sim{} \\text{Bern}(p=0.5) $\n",
    "#### $ \\hspace{0.15cm} X_{3} = X_{1} \\oplus{} X_{2} = \\begin{cases} 0, & \\text{if } \\; X_{1} = X_{2} \\\\ 1, & \\text{otherwise} \\end{cases} \\;\\; \\text{ where } \\oplus{} \\, \\text{ is XOR operator} $\n",
    "#### $ \\hspace{0.15cm} P_{X_{3}}(x_3) = \\begin{cases} 0.5, & \\text{if } \\; X_{3} \\in{} \\{ 0, 1 \\} \\\\ 0, & \\text{otherwise} \\end{cases} \\sim{} \\text{Bern}(p=0.5) $\n",
    "#### $ \\cdot{} \\text{joint table \\& pmf} $ \n",
    "##### $ \\hspace{0.15cm} \\hspace{0.45cm} \\begin{array}{|c|c|c|c|} \\hline{} x_1 & x_2 & x_3 & P_{X_{1}X_{2}X_{3}}(x_{1},x_{2},x_{3}) \\\\ \\hline{} 0 & 0 & 0 & 0.25 \\\\ \\hline{} 0 & 1 & 1 & 0.25 \\\\ \\hline{} 1 & 0 & 1 & 0.25 \\\\ \\hline{} 1 & 1 & 0 & 0.25 \\\\ \\hline \\end{array} $\n",
    "##### $ \\hspace{0.15cm} P_{X_1X_2X_3}(x_1,x_2,x_3) = \\begin{cases} 0.25, & \\text{if } \\, (x_{1}, x_{2}, x_3) \\in{} \\{ (0,0,0),(0,1,1),(1,0,1),(1,1,0) \\} \\\\ 0, & \\text{otherwise} \\end{cases} $\n",
    "#### $ \\cdot{} \\text{mutually independent} $ \n",
    "#### $ \\hspace{0.15cm} P_{X_1X_2X_3}(x_1,x_2,x_3) = P_{X_{1}}(x_{1})P_{X_{2}}(x_{2})P_{X_{3}}(x_{3}) $\n",
    "#### $ \\hspace{0.15cm} \\text{if } \\, (x_1,x_2,x_3) = (0,0,0) $\n",
    "#### $ \\hspace{0.15cm} P_{X_1X_2X_3}(0,0,0) = 0.25 $ \n",
    "#### $ \\hspace{0.15cm} P_{X_{1}}(0) = P_{X_{2}}(0) = P_{X_{3}}(0) = 0.5, \\;\\; P_{X_{1}}(0)P_{X_{2}}(0)P_{X_{3}}(0) = (0.5)^{3} = 0.125 $\n",
    "#### $ \\hspace{0.15cm} \\therefore{} P_{X_1X_2X_3}(x_1,x_2,x_3) \\neq{} P_{X_{1}}(x_{1})P_{X_{2}}(x_{2})P_{X_{3}}(x_{3}) $\n",
    "#### $ \\hspace{0.15cm} \\Rightarrow{} X_{1}, X_{2} \\text{ and } X_{3} \\text{ are not mutually independent.} $ \n",
    "---"
   ]
  },
  {
   "cell_type": "markdown",
   "id": "894b260c",
   "metadata": {},
   "source": [
    "#### **(2)** Are $ X_{1} $, $ X_{2} $ and $ X_{3} $ pairwise independent? Justify your answer. \n",
    "#### $ \\cdot{} \\text{joint pmf} $ \n",
    "#### $ \\hspace{0.15cm} P_{X_{i}X_{3}}(x_{i}, x_{3}) = \\begin{cases} 0.25, & \\text{if } \\, (x_{i},  x_{3}) \\in{} \\{ (0,0),(0,1),(1,1),(1,0) \\} \\\\ 0, & \\text{otherwise} \\end{cases} \\;\\; \\text{ for } \\, i = 1, 2 $ \n",
    "#### $ \\cdot{} \\text{pairwise independent between } X_{1} \\text{ and } X_{3} $\n",
    "#### $ \\hspace{0.15cm} P_{X_{1}X_{3}}(x_{1},x_{3}) = P_{X_{1}}(x_{1})P_{X_{3}}(x_{3}) $\n",
    "#### $ \\hspace{0.15cm} \\text{if } \\, (x_{1}, x_{3}) = (0,0), \\;\\; P_{X_{1}X_{3}}(0,0) = P_{X_{1}}(0)P_{X_{3}}(0) = 0.25 $\n",
    "#### $ \\hspace{0.15cm} \\text{if } \\, (x_{1}, x_{3}) = (0,1), \\;\\; P_{X_{1}X_{3}}(0,1) = P_{X_{1}}(0)P_{X_{3}}(1) = 0.25 $\n",
    "#### $ \\hspace{0.15cm} \\text{if } \\, (x_{1}, x_{3}) = (1,0), \\;\\; P_{X_{1}X_{3}}(1,0) = P_{X_{1}}(1)P_{X_{3}}(0) = 0.25 $\n",
    "#### $ \\hspace{0.15cm} \\text{if } \\, (x_{1}, x_{3}) = (1,1), \\;\\; P_{X_{1}X_{3}}(1,1) = P_{X_{1}}(1)P_{X_{3}}(1) = 0.25 $\n",
    "#### $ \\cdot{} \\text{pairwise independent between } X_{2} \\text{ and } X_{3} $\n",
    "#### $ \\hspace{0.15cm} P_{X_{2}X_{3}}(x_{2},x_{3}) = P_{X_{2}}(x_{2})P_{X_{3}}(x_{3}) \\;\\; \\because{} \\text{for } X_{2},X_{3} : \\text{same as above by symmetry} $\n",
    "#### $ \\hspace{0.15cm} \\therefore{} P_{X_{i}X_{3}}(x_{i},x_{3}) = P_{X_{i}}(x_{i})P_{X_{3}}(x_{3}) $\n",
    "#### $ \\hspace{0.15cm} \\Rightarrow{} X_{1}, X_{2} \\text{ and } X_{3} \\text{ are pairwise independent.} $ "
   ]
  },
  {
   "cell_type": "markdown",
   "id": "ea446d09",
   "metadata": {},
   "source": [
    "<b></b>"
   ]
  },
  {
   "cell_type": "markdown",
   "id": "2d9fd7e5",
   "metadata": {},
   "source": [
    "> ## **Q2. Discrete RV**"
   ]
  },
  {
   "cell_type": "markdown",
   "id": "34f6f439",
   "metadata": {},
   "source": [
    "#### Bob has two coins in his pocket: one is a fair coin with a head and a tail, the other is a special coin with two heads.  \n",
    "#### Bob picks out a coin randomly, tosses it and observes if he gets a head or a tail.  \n",
    "#### After that, he puts the coin back into the pocket and repeats the procedure once more.\n",
    "---"
   ]
  },
  {
   "cell_type": "markdown",
   "id": "47ecbab4",
   "metadata": {},
   "source": [
    "#### **(1)** Specify the sample space $ \\Omega{} $.  \n",
    "#### $ \\hspace{0.15cm} \\Gamma_{C} = \\{ \\text{F}, \\text{D} \\} : \\text{coin type}, \\;\\; \\text{ where\\, F is fair coin, D is Double-headed coin} $\n",
    "#### $ \\hspace{0.15cm} \\Gamma_{X} = \\{ \\text{H}, \\text{T} \\} : \\text{coin toss result}, \\;\\; \\text{ where\\, H is head, T is tail.} $\n",
    "#### $ \\hspace{0.15cm} \\therefore{} \\Omega{} = (\\Gamma_{C} \\times{} \\Gamma_{X} )^{2} = \\{ (c_{1}, x_{1}, c_{2}, x_{2} ) \\; | \\; c_{i} \\in{} \\Gamma_{C}, \\;\\; x_{i} \\in{} \\Gamma_{X} \\} \\;\\; \\text{ for } \\, i = 1,2. \\;\\; $ ($ \\text{extended sample space}$)\n",
    "#### $ \\hspace{0.15cm} \\Rightarrow{} \\Omega{}_{\\text{obs}} = (\\Gamma_{X})^{2} = \\{ (\\text{H},\\text{H}), (\\text{H},\\text{T}), (\\text{T},\\text{H}), (\\text{T},\\text{T})\\} \\;\\; $ ($ \\text{observed sample space}$)\n",
    "---"
   ]
  },
  {
   "cell_type": "markdown",
   "id": "04739cb2",
   "metadata": {},
   "source": [
    "#### **(2)** Specify the event space $ \\, \\mathcal{F} $.  \n",
    "#### $ \\hspace{0.15cm} \\therefore{} \\mathcal{F} = 2^{\\Omega{}} = \\{ A : A \\subset{} \\Omega{} \\} $\n",
    "#### $ \\hspace{0.15cm} \\Rightarrow{} \\mathcal{F}_{\\text{obs}} = 2^{\\Omega{}_{\\text{obs}}} = \\{ \\empty{}, \\{ (\\text{H}, \\text{T}) \\}, \\{ (\\text{H}, \\text{T}), (\\text{T}, \\text{H}) \\}, \\cdots{}, \\Omega{}_{\\text{obs}} \\}$\n",
    "---"
   ]
  },
  {
   "cell_type": "markdown",
   "id": "3627e506",
   "metadata": {},
   "source": [
    "#### **(3)** Specify the probability measure $ P $ assigned to each event in $ \\, \\mathcal{F} $.  \n",
    "#### $ \\hspace{0.15cm} P_{S} : 2^{S} \\rightarrow{} [0, 1] \\;\\; \\text{ where } \\, S = \\Gamma_{C} \\times{} \\Gamma_{X} $\n",
    "#### $ \\hspace{0.15cm} P_{S}(\\{(\\text{F}, \\text{H})\\}) = \\frac{1}{2} \\cdot{} \\frac{1}{2} = \\frac{1}{4} $\n",
    "#### $ \\hspace{0.15cm} P_{S}(\\{(\\text{F}, \\text{T})\\}) = \\frac{1}{2} \\cdot{} \\frac{1}{2} = \\frac{1}{4} $\n",
    "#### $ \\hspace{0.15cm} P_{S}(\\{(\\text{D}, \\text{H})\\}) = \\frac{1}{2} \\cdot{} 1 = \\frac{1}{2} $\n",
    "#### $ \\hspace{0.15cm} P_{S}(\\{(\\text{D}, \\text{T})\\}) = \\frac{1}{2} \\cdot{} 0 = 0 $\n",
    "#### $ \\hspace{0.15cm} P_{S}(\\{(c_{i}, x_{i})\\}) = \\begin{cases} \\frac{1}{4}, & \\text{if } \\, (c_{i}, x_{i}) = (\\text{F}, \\text{H}) \\text{ or } (\\text{F}, \\text{T}) \\\\ \\frac{1}{2}, & \\text{if } \\, (c_{i}, x_{i}) = (\\text{D}, \\text{H}) \\\\ 0, & \\text{otherwise } \\end{cases} $\n",
    "#### $ \\hspace{0.15cm} \\therefore{} P = P_{S} \\otimes{} P_{S} : \\mathcal{F} \\rightarrow{} [0, 1] \\;\\; \\because{} \\text{sampling with replacement} = \\text{independence} $"
   ]
  },
  {
   "cell_type": "markdown",
   "id": "04876ff6",
   "metadata": {},
   "source": [
    "#### **(`PLUS`)** Projection\n",
    "#### $ \\hspace{0.15cm} \\text{Let } \\, \\theta{} : \\Omega{} \\rightarrow{} \\Omega{}_{\\text{obs}} = (\\Gamma{}_{X})^{2}, \\;\\; \\theta{}(c_{1}, x_{1}, c_{2}, x_{2}) = (x_{1}, x_{2}) $ \n",
    "#### $ \\hspace{0.15cm} P_{\\text{obs}}(A) = P(\\theta{}^{-1}(A)) $\n",
    "#### $ \\hspace{0.15cm} P_{\\text{obs}}(\\{ (x_{1}, x_{2}) \\}) = \\displaystyle{} \\sum_{c_{1}, c_{2} \\in{} \\Gamma{}_{C}} P(\\{ (c_{1}, x_{1}, c_{2}, x_{2})\\}) $\n",
    "#### $ \\hspace{2.35cm} = \\begin{cases} \\frac{9}{16}, & \\text{if } \\, (x_{1}, x_{2}) = (\\text{H}, \\text{H}) \\\\ \\frac{3}{16}, & \\text{if } \\, (x_{1}, x_{2}) = (\\text{H}, \\text{T})  \\text{ or } (\\text{T}, \\text{H}) \\\\ \\frac{1}{16}, & \\text{if } \\, (x_{1}, x_{2}) = (\\text{T}, \\text{T}) \\\\ 0, & \\text{otherwise } \\end{cases} $\n",
    "---"
   ]
  },
  {
   "cell_type": "markdown",
   "id": "4840beaf",
   "metadata": {},
   "source": [
    "#### **(4)** What is the probability that a head was obtained in the first toss given that the second toss is a tail?  \n",
    "#### $ \\hspace{0.15cm} \\therefore{} P(X_{1} = \\text{H} \\; | \\; X_{2} = \\text{T}) = \\frac{P(X_{1}=\\text{H}, X_{2} = \\text{T})}{P(X_{2} = \\text{T})} = \\frac{P_{\\text{obs}}(\\{ (\\text{H}, \\text{T})\\})}{P_{\\text{obs}}(\\{ (\\text{H}, \\text{T}) \\}) + P_{\\text{obs}}(\\{ (\\text{T}, \\text{T}) \\}) } = \\frac{\\frac{3}{16}}{\\frac{3}{16}+\\frac{1}{16}} = \\frac{3}{4} $"
   ]
  },
  {
   "cell_type": "markdown",
   "id": "3b98fef5",
   "metadata": {},
   "source": [
    "<b></b>"
   ]
  },
  {
   "cell_type": "markdown",
   "id": "726a0a34",
   "metadata": {},
   "source": [
    "> ## **Q3. Continuous RV**"
   ]
  },
  {
   "cell_type": "markdown",
   "id": "b851dd8d",
   "metadata": {},
   "source": [
    "#### Let $X$ and $Y$ be the coordinates of a point selected uniformly at random from the triangle with vertices $(0,0)$, $(0,1)$ and $(1,0)$ in $\\mathbb{R}^2$.\n",
    "##### $ \\hspace{0.15cm} $ <img src=\"../../img/00.4. quiz(1).png\" width=\"35%\" height=\"35%\"></img>"
   ]
  },
  {
   "cell_type": "markdown",
   "id": "877ab9e5",
   "metadata": {},
   "source": [
    "#### **(1)** Find the pdf of $ X $.\n",
    "#### $ \\cdot{} \\text{joint pdf} $  \n",
    "#### $ \\hspace{0.15cm} f_{XY}(x,y) = \\begin{cases} 2, & \\text{if } x\\geq{} 0, \\;\\; y \\geq{} 0, \\;\\; x+y \\leq{} 1 \\\\ 0, & \\text{otherwise} \\end{cases} \\;\\; \\because{} \\text{area}(\\text{A}) = \\frac{1}{2} $ \n",
    "#### $ \\cdot{} \\text{marginal pdf of } X $\n",
    "#### $ \\hspace{0.15cm} \\therefore{} f_{X}(x) = \\displaystyle{} \\int^{1-x}_{0} f_{XY}(x,y) \\text{d}y = \\int^{1-x}_{0} 2 \\text{d}y  = \\begin{cases} 2(1-x), & \\text{if } \\, 0 \\leq{} x \\leq{} 1 \\\\ 0, & \\text{otherwise} \\end{cases} $ \n",
    "---"
   ]
  },
  {
   "cell_type": "markdown",
   "id": "3e86eb69",
   "metadata": {},
   "source": [
    "#### **(2)** Are $ X $ and $ Y $ independent? Justify your answer.  \n",
    "#### $ \\cdot{} \\text{marginal pdf of } Y $\n",
    "#### $ \\hspace{0.15cm} \\therefore{} f_{Y}(y) = \\displaystyle{} \\int^{1-y}_{0} f_{XY}(x,y) \\text{d}x = \\int^{1-y}_{0} 2 \\text{d}x  = \\begin{cases} 2(1-y), & \\text{if } \\, 0 \\leq{} y \\leq{} 1 \\\\ 0, & \\text{otherwise} \\end{cases} $\n",
    "#### $ \\cdot{} \\text{independence} $\n",
    "#### $ \\hspace{0.15cm} \\text{if } \\, (x,y) = (0.25,0.25) $\n",
    "#### $ \\hspace{0.15cm} f_{XY}(0.25,0.25) = 2 $\n",
    "#### $ \\hspace{0.15cm} f_{X}(0.25) = f_{Y}(0.25) = 1.5 $\n",
    "#### $ \\hspace{0.15cm} \\therefore{} f_{XY}(0.25, 0.25) \\neq{} f_{X}(0.25)f_{Y}(0.25) $\n",
    "#### $ \\hspace{0.15cm} \\Rightarrow{} X, Y \\text{ are not independent.} $ \n",
    "---"
   ]
  },
  {
   "cell_type": "markdown",
   "id": "56fd3114",
   "metadata": {},
   "source": [
    "#### **(3)** Find $\\mathbb{E}[X^2 \\mid Y = y]$ for $y \\in (0,1)$. \n",
    "#### $ \\cdot{} \\text{conditional pdf of } X \\text{ given } Y $\n",
    "#### $ \\hspace{0.15cm} f_{X|Y}(x|y) = \\frac{f_{XY}(x,y)}{f_{Y}(y)} = \\frac{2}{2(1-y)} = \\frac{1}{1-y} \\;\\; \\text{ for } \\, 0 \\leq{} x \\leq{} 1-y $\n",
    "#### $ \\cdot{} \\text{expectation value of } X \\text{ given } Y $\n",
    "#### $ \\hspace{0.15cm} \\therefore{} \\mathbb{E}[X^{2}|Y=y] = \\displaystyle{} \\int^{1-y}_{0} x^{2} f_{X|Y}(x|y) \\text{d}x = \\frac{1}{1-y} \\int^{1-y}_{0} x^{2} \\text{d}x = \\frac{1}{(1-y)} \\cdot{} \\frac{(1-y)^{3}}{3} = \\frac{(1-y)^{2}}{3}$"
   ]
  },
  {
   "cell_type": "markdown",
   "id": "bcb2e582",
   "metadata": {},
   "source": [
    "<b></b>"
   ]
  },
  {
   "cell_type": "markdown",
   "id": "226c7bcb",
   "metadata": {},
   "source": [
    "> ## **Q4. Composite Continuous RV**"
   ]
  },
  {
   "cell_type": "markdown",
   "id": "dde4d60b",
   "metadata": {},
   "source": [
    "#### Suppose $(U, V)$ has joint pdf\n",
    "#### $ \\hspace{0.15cm} f_{UV}(u,v) = \\begin{cases} 8u^{2}v^{2}, & \\text{if } 0 \\leq u \\leq 1 \\;\\; \\text{and} \\;\\; 0 \\leq v \\leq 1 \\\\ 0, & \\text{otherwise} \\end{cases} $\n",
    "#### Let $X = 2U$ and $Y = UV$.\n",
    "---"
   ]
  },
  {
   "cell_type": "markdown",
   "id": "c331692b",
   "metadata": {},
   "source": [
    "#### **(1)** Find the joint pdf of $X$ and $Y$, being sure to specify where the joint pdf is zero.  \n",
    "#### $ \\cdot{} \\text{normalization} $  \n",
    "#### $ \\hspace{0.15cm} \\displaystyle{} \\int^{1}_{0} \\int^{1}_{0} f_{UV}(u,v) \\text{d}u\\text{d}v = 8 \\int^{1}_{0} \\int^{1}_{0} u^{2}v^{2} \\text{d}u\\text{d}v = \\frac{8}{3} \\int^{1}_{0} u^{2} \\text{d}u = \\frac{8}{9} \\neq{} 1 $\n",
    "#### $ \\hspace{0.15cm} f_{UV}^{*}(u,v) := \\begin{cases} 9u^{2}v^{2}, & \\text{if } \\, 0 \\leq u \\leq 1 \\;\\; \\text{and} \\;\\; 0 \\leq v \\leq 1 \\\\ 0, & \\text{otherwise} \\end{cases} $\n",
    "#### $ \\cdot{} \\text{transformation} $  \n",
    "#### $ \\hspace{0.15cm} x = 2u, \\;\\; u = \\frac{x}{2}, \\;\\; 0 \\leq{} x \\leq{} 2 $  \n",
    "#### $ \\hspace{0.15cm} y = uv = (\\frac{x}{2})\\,v, \\;\\; v = \\frac{2y}{x}, \\;\\; 0 \\leq{} y \\leq{} \\frac{x}{2} $  \n",
    "#### $ \\cdot{} \\text{Jacobian determinant} $  \n",
    "#### $ \\hspace{0.15cm} J = \\begin{bmatrix} \\frac{\\partial u}{\\partial x} & \\frac{\\partial u}{\\partial y} \\\\ \\frac{\\partial v}{\\partial x} & \\frac{\\partial v}{\\partial y} \\end{bmatrix} = \\begin{bmatrix} \\frac{1}{2} & 0 \\\\ -\\frac{2y}{x^{2}} & \\frac{2}{x} \\end{bmatrix}, \\;\\; |J| = \\frac{1}{x} \\;\\; \\text{ s.t. } \\, x \\neq{} 0 $\n",
    "#### $ \\cdot{} \\text{joint pdf of } (X,Y) $\n",
    "#### $ \\hspace{0.15cm} f_{XY}(x,y) = f_{UV}^{*}(u,v) |J| = 9\\left(\\frac{x}{2}\\right)^{2}\\left(\\frac{2y}{x}\\right)^{2} \\frac{1}{x} = 9 \\frac{y^{2}}{x} $  \n",
    "#### $ \\hspace{0.15cm} \\therefore \\; f_{XY}(x,y) = \\begin{cases} 9 \\frac{y^{2}}{x}, & \\text{if } \\, 0 < x \\leq{} 2, \\;\\; 0 \\leq{} y \\leq{} \\frac{x}{2} \\\\ 0, & \\text{otherwise} \\end{cases} $\n",
    "---"
   ]
  },
  {
   "cell_type": "markdown",
   "id": "f56bfd3f",
   "metadata": {},
   "source": [
    "#### **(2)** Find the conditional pdf $f_{Y|X}(y|x)$ of $Y$ given $X$.\n",
    "#### $ \\cdot{} \\text{marginal pdf of } X $ \n",
    "#### $ \\hspace{0.15cm} f_{X}(x) = \\displaystyle \\int_{0}^{\\frac{x}{2}} f_{XY}(x,y) \\text{d}y = \\frac{9}{x} \\int_{0}^{\\frac{x}{2}} y^{2} \\text{d}y = \\frac{9}{x} \\frac{1}{3}\\left(\\frac{x}{2}\\right)^{3} = \\frac{3}{8} x^{2}, \\;\\; \\text{ for } \\, 0 \\leq x \\leq 2 $ \n",
    "#### $ \\cdot{} \\text{conditional pdf of } Y \\text{ given } X $ \n",
    "#### $ \\hspace{0.15cm} \\therefore \\; f_{Y|X}(y|x) = \\begin{cases} \\frac{f_{XY}(x,y)}{f_{X}(x)} = \\frac{9\\frac{y^{2}}{x}}{\\frac{3}{8}x^{2}} = \\frac{24 y^{2}}{x^{3}} = \\frac{24 y^{2}}{x^{3}}, & \\text{if } \\, 0 \\leq y \\leq \\frac{x}{2}, \\;\\; 0 < x \\leq 2 \\\\[6pt] 0, & \\text{otherwise} \\end{cases} $"
   ]
  },
  {
   "cell_type": "markdown",
   "id": "664ae422",
   "metadata": {},
   "source": [
    "<b></b>"
   ]
  },
  {
   "cell_type": "markdown",
   "id": "2583b27b",
   "metadata": {},
   "source": [
    "> ## **Q5. Characteristic Function**"
   ]
  },
  {
   "cell_type": "markdown",
   "id": "f90549fc",
   "metadata": {},
   "source": [
    "#### As we saw in class, the joint characteristic function of random variables $X_{1}, X_{2}, \\dots, X_{n}$ is defined by\n",
    "#### $ \\hspace{0.15cm} \\Phi_{X_{1},X_{2},\\dots,X_{n}}(u_{1},u_{2},\\dots,u_{n}) = \\mathbb{E}\\!\\left[{} \\exp\\!\\Bigg({} j \\sum_{k=1}^{n} X_{k}u_{k} \\Bigg){} \\right]{} $\n",
    "#### where $ j = \\sqrt{-1} $. Now suppose the joint characteristic function of three random variables $X_{1}, X_{2}, X_{3}$ satisfies the equation:\n",
    "#### $ \\hspace{0.15cm} \\Phi_{X_{1},X_{2},X_{3}}(u_{1},u_{2},u_{3}) = \\exp\\!\\Bigg( j \\sum_{k=1}^{3} ku_{k} \\;-\\; \\sum_{k=1}^{3} k^{2}u_{k}^{2} \\Bigg){} $\n",
    "---"
   ]
  },
  {
   "cell_type": "markdown",
   "id": "18d41232",
   "metadata": {},
   "source": [
    "#### **(1)** Find the characteristic function of $X_{2}$.\n",
    "#### $ \\hspace{0.15cm} \\therefore{} \\Phi_{X_{2}}(u_{2}) = \\Phi_{X_{1},X_{2},X_{3}}(0,u_{2},0) = \\exp\\!\\Bigg({} (2u_{2})j -(4u^{2}_{2}) \\Bigg) $\n",
    "---"
   ]
  },
  {
   "cell_type": "markdown",
   "id": "94ba2c9b",
   "metadata": {},
   "source": [
    "#### **(2)** Evaluate $ \\mathbb{E}[X_{2}] $ and $ \\mathrm{Var}(X_{2}) $.\n",
    "#### $ \\cdot{} \\mathbb{E}[X_{2}] = j^{1} \\mathbb{E}[X_{2}] $\n",
    "#### $ \\hspace{0.15cm} \\Phi_{X_{2}}^{'}(u_{2}) = \\frac{\\text{d}}{\\text{d}u_{2}}\\Phi_{X_{2}}(u_{2}) = \\frac{\\text{d}}{\\text{d}u_{2}} \\bigg({} e^{\\big({}(2u_{2})j -(4u^{2}_{2})\\big){}} \\bigg){} = e^{\\big({}(2u_{2})j -(4u^{2}_{2})\\big){}} \\cdot{} (2j - 8u_{2}) $\n",
    "#### $ \\hspace{0.15cm} \\Phi_{X_{2}}^{'}(0) = e^{0} \\cdot{} (2j - 0) = 2j = j^{1} \\mathbb{E}[X_{2}], \\;\\; \\mathbb{E}[X_{2}] = 2 $\n",
    "#### $ \\cdot{} \\text{var}(X_{2}) = \\mathbb{E}[X_{2}^{2}] - (\\mathbb{E}[X_{2}])^{2} $\n",
    "#### $ \\hspace{0.15cm} \\Phi_{X_{2}}^{''}(u_{2}) = \\frac{\\text{d}\\Phi_{X_{2}}^{'}(u_{2})}{\\text{d}u_{2}} = \\frac{\\text{d}}{\\text{d}u_{2}} \\bigg[{}e^{\\big({}(2u_{2})j -(4u^{2}_{2})\\big){}} \\cdot{} (2j - 8u_{2}) \\bigg]{} = e^{\\big({}(2u_{2})j -(4u^{2}_{2})\\big){}} \\cdot{} (2j - 8u_{2})^{2} - 8 e^{\\big({}(2u_{2})j -(4u^{2}_{2})\\big){}} $\n",
    "#### $ \\hspace{0.15cm} \\Phi_{X_{2}}^{''}(0) = e^{0} \\cdot{} (2j)^{2} - 8 = -4 -8 = -12 = j^{2} \\mathbb{E}[X_{2}^{2}], \\;\\; \\mathbb{E}[X_{2}^{2}] = 12 $\n",
    "#### $ \\hspace{0.15cm} \\therefore{} \\mathbb{E}[X_{2}] = 2, \\;\\; \\text{var}(X_{2}) = \\mathbb{E}[X_{2}^{2}] - (\\mathbb{E}[X_{2}])^{2} = 12 - 4 = 8 $"
   ]
  },
  {
   "cell_type": "markdown",
   "id": "062a00d9",
   "metadata": {},
   "source": [
    "<b></b>"
   ]
  },
  {
   "cell_type": "markdown",
   "id": "d16d09d9",
   "metadata": {},
   "source": [
    "> ## **Q6. Joint PDF**"
   ]
  },
  {
   "cell_type": "markdown",
   "id": "f44e0c42",
   "metadata": {},
   "source": [
    "#### Suppose $ X $ and $ Y $ are jointly continuous-type random variables with joint pdf:\n",
    "#### $ f_{X,Y}(u,v) = \\begin{cases} \\alpha (u + v^2), & 0 \\leq u \\leq 1,\\; 0 \\leq v \\leq 2u, \\\\ 0, & \\text{else.} \\end{cases} $ \n",
    "#### where $ \\alpha{} $ is a positive real that you will find.\n",
    "#### $ \\hspace{0.15cm} $ <img src=\"../../img/00.4. quiz(2).png\" width=\"35%\" height=\"35%\"></img>\n",
    "---"
   ]
  },
  {
   "cell_type": "markdown",
   "id": "e0f08c3e",
   "metadata": {},
   "source": [
    "#### **(1)** Determine whether $ X $ and $ Y $ are independent. Justify your answer.\n",
    "#### If two random variables $ X,Y $ are independent, then the support of their joint pdf must be rectangular \n",
    "#### (since the possible ranges of each random variable do not depend on each other).\n",
    "---"
   ]
  },
  {
   "cell_type": "markdown",
   "id": "574b53ad",
   "metadata": {},
   "source": [
    "#### **(2)** Find the marginal pdf $f_X(u)$. \n",
    "#### $ \\hspace{0.45cm} $(You can express your answer using $ \\, \\alpha{} $. Specify the pdf over the entire line, including where it is zero.)\n",
    "#### $ \\hspace{0.15cm} \\displaystyle{} \\int^{2u}_{0} f_{XY}(u, v) \\text{d}v = \\alpha{} \\int^{2u}_{0} (u+v^{2}) \\text{d}v = \\alpha{} [uv + \\frac{1}{3}v^{3}]^{2u} = \\alpha{}(2u^{2} + \\frac{8}{3}u^{3}) $\n",
    "#### $ \\hspace{0.15cm} \\therefore{} f_{X}(u) = \\begin{cases} \\alpha{}(2u^{2} + \\frac{8}{3}u^{3}) & \\text{if } \\, 0 \\leq{} u \\leq{} 1 \\\\ 0 & \\text{otherwise} \\end{cases} $\n",
    "---"
   ]
  },
  {
   "cell_type": "markdown",
   "id": "23b2a124",
   "metadata": {},
   "source": [
    "#### **(3)** Compute the value of $\\alpha$. \n",
    "#### $ \\hspace{0.15cm} \\displaystyle{} \\int^{1}_{0} f_{X}(u) \\text{d}u = \\int^{1}_{0} \\alpha{}(2u^{2} + \\frac{8}{3}u^{3}) \\text{d}u = \\alpha{} \\big({} \\frac{2}{3} + \\frac{8}{3} \\cdot{} \\frac{1}{4} \\big){} = \\alpha{} \\cdot{} \\frac{4}{3} = 1 $\n",
    "#### $ \\hspace{0.15cm} \\therefore{} \\alpha{} = \\frac{3}{4} $\n",
    "---"
   ]
  },
  {
   "cell_type": "markdown",
   "id": "274b3990",
   "metadata": {},
   "source": [
    "#### **(4)** For what values of $u$ is the conditional pdf $ f_{Y|X}(v|u) $ well defined for all $v$?\n",
    "#### $ \\hspace{0.15cm} \\frac{f_{XY}(u,v)}{f_{X}(u)} = \\frac{\\alpha{} (u + v^2)}{\\alpha{}(2u^{2} + \\frac{8}{3}u^{3})} = \\frac{u + v^2}{2u^{2} + \\frac{8}{3}u^{3}} \\;\\; \\text{ s.t. } \\, u \\neq{} 0 $\n",
    "#### $ \\hspace{0.15cm} \\therefore{} f_{Y|X}(v|u) = \\begin{cases} \\frac{u + v^2}{2u^{2} + \\frac{8}{3}u^{3}} & \\text{if } \\, 0 \\leq{} v \\leq{} 2u, \\;\\; 0 < u \\leq{} 1 \\\\ 0 & \\text{otherwise} \\end{cases} \\;\\; \\because{} f_{X}(u) \\neq{} 0 $\n",
    "---"
   ]
  },
  {
   "cell_type": "markdown",
   "id": "6defdccf",
   "metadata": {},
   "source": [
    "#### **(5)** Find $ P(X < Y) $.\n",
    "#### $ \\hspace{0.15cm} P(X<Y) \\;\\; \\rightarrow{} \\;\\; 0 \\leq{} u \\leq{} 1,\\; u < v \\leq{} 2u $\n",
    "#### $ \\hspace{0.15cm} P(X<Y) = \\displaystyle{} \\int^{1}_{0} \\int^{2u}_{u} f_{XY}(u,v)\\text{d}v\\text{d}u = \\frac{3}{4} \\int^{1}_{0} \\big({} u^{2} + \\frac{7}{3} u^{3} \\big){} \\text{d}u = \\frac{3}{4} \\cdot{} \\frac{11}{12} $\n",
    "#### $ \\hspace{0.15cm} \\therefore{} P(X<Y) = \\frac{11}{16} $"
   ]
  },
  {
   "cell_type": "markdown",
   "id": "63912d93",
   "metadata": {},
   "source": [
    "<b></b>"
   ]
  },
  {
   "cell_type": "markdown",
   "id": "425a3f08",
   "metadata": {},
   "source": [
    "> ## **Q7. Expectation and Correlation**"
   ]
  },
  {
   "cell_type": "markdown",
   "id": "3a574baa",
   "metadata": {},
   "source": [
    "#### Given a random variable $ X $, two random variables $ W $ and $ V $ (considered to be noise) are added to $ X $ to form the observations\n",
    "#### $ Y = X + V $\n",
    "#### $ Z = X + W $\n",
    "#### Both $ W $ and $ V $ are assumed to be independent of $ X $. Suppose that all variables have mean $ 0 $, that $ X $ has variance $ \\sigma{}_{X}^{2} $, \n",
    "#### and that the random variables $ W $ and $ V $ have equal variance $ \\sigma{}^2 $. Finally, suppose that $ W $ and $ V $ are such that\n",
    "#### $ \\mathbb{E}[VW] = \\rho{} \\sigma{}^2, $\n",
    "#### where $ \\rho{} \\in [-1,1] $ is called the correlation coefficient.\n",
    "---"
   ]
  },
  {
   "cell_type": "markdown",
   "id": "9158da50",
   "metadata": {},
   "source": [
    "#### **(1)** Find $ \\mathbb{E}[YZ] $\n",
    "#### $ \\hspace{0.15cm} X \\perp{} V, \\;\\; X \\perp{} W $\n",
    "#### $ \\hspace{0.15cm} \\mathbb{E}[X] = \\mathbb{E}[Y] = \\mathbb{E}[V] = \\mathbb{E}[W] = 0 $\n",
    "#### $ \\hspace{0.15cm} \\text{var}(X) = \\mathbb{E}[X^{2}] - (\\mathbb{E}[X])^{2} = \\mathbb{E}[X^{2}] = \\sigma{}^{2}_{X}, \\;\\; \\text{var}(V) = \\text{var}(W) = \\sigma{}^{2} $\n",
    "#### $ \\hspace{0.15cm} \\mathbb{E}[VW] = \\rho{} \\sigma{}^{2} $\n",
    "#### $ \\hspace{0.15cm} \\therefore{} \\mathbb{E}[YZ] = \\mathbb{E}[(X+V)(X+W)] = \\mathbb{E}[X^{2} + XW + XV + VW] $ \n",
    "#### $ \\hspace{1.575cm} = \\mathbb{E}[X^{2}] + \\mathbb{E}[XW] + \\mathbb{E}[XV] + \\mathbb{E}[VW] $\n",
    "#### $ \\hspace{1.575cm} = \\mathbb{E}[X^{2}] + \\mathbb{E}[X]\\mathbb{E}[W] + \\mathbb{E}[X]\\mathbb{E}[V] + \\mathbb{E}[VW] \\;\\; \\because{} \\text{independence} $\n",
    "#### $ \\hspace{1.575cm} = \\sigma{}^{2}_{X} + 0 + 0 + \\rho{} \\sigma{}^{2} = \\sigma{}^{2}_{X} + \\rho{} \\sigma{}^{2} $\n",
    "---"
   ]
  },
  {
   "cell_type": "markdown",
   "id": "75aa48d7",
   "metadata": {},
   "source": [
    "#### **(2)** Suppose that we cannot observe $ X $, but wish to estimate it based on the observations $ Y $ and/or $ Z $. Two possible estimates are\n",
    "#### $ \\hat{X}_1 = Y \\quad \\text{and} \\quad \\hat{X}_2 = \\dfrac{Y + Z}{2} $\n",
    "#### In other words, the estimate $ \\hat{X}_1 $ only makes use of one observation, \n",
    "#### while $ \\hat{X}_2 $ looks at both. For what values of $ \\rho{} $ is $ \\hat{X}_2 $ the better estimate of the two in the sense that\n",
    "#### $ \\mathbb{E}\\big[(X - \\hat{X}_2)^2\\big] < \\mathbb{E}\\big[(X - \\hat{X}_1)^2\\big] $ ?\n",
    "#### $ \\hspace{0.15cm} \\cdot{} \\mathbb{E}\\big[(X - \\hat{X}_1)^2\\big] = \\mathbb{E}[\\big({}X - (X+V)\\big){}^{2}] = \\mathbb{E}[(-V)^{2}] = \\mathbb{E}[V^{2}] = \\text{var}(V) = \\sigma{}^{2} \\;\\; \\cdots{} (a) $\n",
    "#### $ \\hspace{0.15cm} \\cdot{} \\mathbb{E}\\big[(X - \\hat{X}_2)^2\\big] = \\mathbb{E}[\\big({}X - (X+\\frac{V+W}{2})\\big){}^{2}] = \\mathbb{E}[\\frac{V^{2}+2VW+W^{2}}{4}] $\n",
    "#### $ \\hspace{2.475cm} = \\frac{1}{4} \\big({} \\mathbb{E}[V^{2}+2VW+W^{2}] \\big){} = \\frac{1}{4} \\big({} \\mathbb{E}[V^{2}]+2\\mathbb{E}[VW]+\\mathbb{E}[W^{2}] \\big){} $\n",
    "#### $ \\hspace{2.475cm} = \\frac{1}{4} \\big({} \\sigma{}^{2} +2\\rho{}\\sigma{}^{2}+ \\sigma{}^{2} \\big){} = \\frac{\\sigma{}^{2}}{2} (1+\\rho{}) \\;\\; \\cdots{} (b) $\n",
    "#### $ \\hspace{0.15cm} \\text{if} \\;\\; (b) < (a), \\;\\; \\text{ then } \\;\\; \\frac{\\sigma{}^{2}}{2} (1+\\rho{}) < \\sigma{}^{2} \\;\\; \\rightarrow{} \\;\\; 1+\\rho{} < 2 $\n",
    "#### $ \\hspace{0.15cm} \\therefore{} \\begin{cases} \\text{if } \\, \\rho{} < 1, \\;\\; \\mathbb{E}\\big[(X - \\hat{X}_2)^2\\big] < \\mathbb{E}\\big[(X - \\hat{X}_1)^2\\big] \\\\ \\text{if } \\, \\rho{} = 1, \\;\\; \\mathbb{E}\\big[(X - \\hat{X}_2)^2\\big] = \\mathbb{E}\\big[(X - \\hat{X}_1)^2\\big] \\end{cases} $"
   ]
  },
  {
   "cell_type": "markdown",
   "id": "e43c82bb",
   "metadata": {},
   "source": [
    "<b></b>"
   ]
  },
  {
   "cell_type": "markdown",
   "id": "5e44b310",
   "metadata": {},
   "source": [
    "> ## **Q8. Gaussian Distribution**"
   ]
  },
  {
   "cell_type": "markdown",
   "id": "79ec6306",
   "metadata": {},
   "source": [
    "#### **(1)** Assume that $ X $ and $ Y $ are independent Gaussian random variables with mean $ 0 $ and variance $ 1 $. \n",
    "#### Prove that $ \\, \\mathbb{E}[X + Y] = 0, \\;\\; \\mathbb{E}[(X + Y)^2] = 2 $ \n",
    "#### $ \\hspace{0.15cm} X \\sim{} N(\\mu{}=0, \\sigma{}^{2}=1), \\;\\; Y \\sim{} N(0, 1), \\;\\; X \\perp{} Y $\n",
    "#### $ \\hspace{0.15cm} \\cdot{} \\mathbb{E}[X + Y] = \\mathbb{E}[X] + \\mathbb{E}[Y] = 0 \\;\\; \\because{} \\, \\text{linearity} $\n",
    "#### $ \\hspace{0.15cm} \\cdot{} \\mathbb{E}[(X + Y)^{2}] = \\mathbb{E}[X^{2}+2XY+Y^{2}] = \\mathbb{E}[X^{2}]+\\mathbb{E}[2XY]+\\mathbb{E}[Y^{2}] $\n",
    "#### $ \\hspace{2.25cm} = \\mathbb{E}[X^{2}]+2\\mathbb{E}[X]\\mathbb{E}[Y]+\\mathbb{E}[Y^{2}] $\n",
    "#### $ \\hspace{2.25cm} = 1 + 0 + 1 = 2 \\;\\; \\because{} \\, \\text{var}(X) = \\mathbb{E}[X^{2}] - (\\mathbb{E}[X])^{2} = 1 = \\mathbb{E}[Y^{2}] $\n",
    "#### $ \\hspace{0.15cm} \\therefore{} \\mathbb{E}[X + Y] = 0, \\;\\; \\mathbb{E}[(X + Y)^{2}] = 2 $\n",
    "---"
   ]
  },
  {
   "cell_type": "markdown",
   "id": "7c44274d",
   "metadata": {},
   "source": [
    "#### **(2)** Assume that $ X \\sim \\mathcal{N}(\\mu{}_X, \\sigma_X^2) $ and $ Y \\sim \\mathcal{N}(\\mu{}_Y, \\sigma_Y^2) $ are independent.  \n",
    "#### Show that $ X + Y \\sim \\mathcal{N}(\\mu{}_X + \\mu{}_Y, \\; \\sigma_X^2 + \\sigma_Y^2) $\n",
    "#### $ \\hspace{0.15cm} X \\sim{} N(\\mu{}_{X}, \\sigma{}_{X}^{2}), \\;\\; Y \\sim{} N(\\mu{}_{Y}, \\sigma{}_{Y}^{2}), \\;\\; X \\perp{} Y $\n",
    "#### $ \\hspace{0.15cm} \\text{Let } \\, M_{X}(s) \\, \\text{ is moment generating function of } \\, X. \\;\\; \\forall{} \\; s \\in{} (-s_{0}, s_{0}), \\;\\; s_{0} > 0 $\n",
    "#### $ \\hspace{0.15cm} M_{X}(s) = E[e^{sX}] = \\displaystyle{} \\int^{\\infty{}}_{-\\infty{}} e^{sX} f_{X}(x) \\text{d}x = e^{s\\mu{}_{X}+\\frac{1}{2}s^{2}\\sigma{}^{2}_{X}} \\;\\; \\because{} \\, f_{X}(x) = \\frac{1}{\\sqrt{2\\cdot{}\\pi{}\\cdot{}\\sigma{}_{X}^{2}}}e^{-\\frac{(x-\\mu{}_{X})^{2}}{2\\cdot{}\\sigma{}_{X}^{2}}} $\n",
    "#### $ \\hspace{0.15cm} M_{X+Y}(s) = E[e^{s(X+Y)}] = E[e^{sX}e^{sY}] = E[e^{sX}]E[e^{sY}] \\;\\; \\because{} \\, \\text{independence} $\n",
    "#### $ \\hspace{1.65cm} = e^{s(\\mu{}_{X}+\\mu{}_{Y})+\\frac{1}{2}s^{2}(\\sigma{}^{2}_{X}+\\sigma{}^{2}_{Y})} $\n",
    "#### $ \\hspace{0.15cm} \\therefore{} X+Y \\sim{} N(\\mu{}_{X}+\\mu{}_{Y}, \\sigma{}^{2}_{X}+\\sigma{}^{2}_{Y}) $"
   ]
  },
  {
   "cell_type": "markdown",
   "id": "dc4fa1b6",
   "metadata": {},
   "source": [
    "<b></b>"
   ]
  },
  {
   "cell_type": "markdown",
   "id": "448dc857",
   "metadata": {},
   "source": [
    "> ## **Q9. Probability Space**"
   ]
  },
  {
   "cell_type": "markdown",
   "id": "bc925715",
   "metadata": {},
   "source": [
    "#### Let $ (\\Omega, \\mathcal{F}, P) $ be the probability space. Let\n",
    "#### $ L^2(\\Omega) = \\{ X : \\Omega \\to \\mathbb{R} \\;|\\; \\mathbb{E}[|X|^2] < \\infty \\} $\n",
    "---"
   ]
  },
  {
   "cell_type": "markdown",
   "id": "d2345d09",
   "metadata": {},
   "source": [
    "#### **(1)** Show that $ L^2(\\Omega) $ is a vector space.\n",
    "#### $ \\cdot{} \\text{zero vector existence} $\n",
    "#### $ \\hspace{0.15cm} 0(\\omega)\\equiv 0 \\in{} L^{2}(\\Omega) \\;\\; \\because{} \\; \\mathbb{E}[0^{2}] = 0 $\n",
    "#### $ \\cdot{} \\text{closure addition operation} $\n",
    "#### $ \\hspace{0.15cm} \\text{if } \\, X, Y \\in{} L^{2}(\\Omega{}) $\n",
    "#### $ \\hspace{0.15cm} |X+Y|^{2} \\le 2|X|^{2} + 2|Y|^{2} \\;\\; \\because{} \\, (a+b)^{2} \\leq{} 2a^{2} + 2b^{2} $\n",
    "#### $ \\hspace{0.15cm} \\mathbb{E}[|X+Y|^{2}] \\le 2\\mathbb{E}[|X|^{2}] + 2\\mathbb{E}[|Y|^{2}] < \\infty{} $\n",
    "#### $ \\hspace{0.15cm} \\rightarrow{} \\; X + Y \\in{} L^{2}(\\Omega{}) $\n",
    "#### $ \\cdot{} \\text{closure scalar multiplication} $\n",
    "#### $ \\hspace{0.15cm} \\text{if } \\, \\alpha{} \\in{} \\mathbb{R}, \\;\\; X \\in{} L^{2}(\\Omega{}) $\n",
    "#### $ \\hspace{0.15cm} \\rightarrow{} \\; \\mathbb{E}[|\\alpha X|^{2}] = \\alpha^{2}\\mathbb{E}[|X|^{2}] < \\infty{} $\n",
    "#### $ \\therefore{} L^{2}(\\Omega) \\, \\text{ is vector space}. $\n",
    "---"
   ]
  },
  {
   "cell_type": "markdown",
   "id": "8a647608",
   "metadata": {},
   "source": [
    "#### **(2)** For $ X \\in L^2(\\Omega) $, define\n",
    "#### $ |X| := \\big( \\mathbb{E}[|X|^2] \\big)^{\\tfrac{1}{2}} $\n",
    "#### Show that $ |X| $ is the norm on $ L^2(\\Omega) $.\n",
    "#### $ \\cdot{} \\text{nonnegativity and definiteness} $ \n",
    "#### $ \\hspace{0.15cm} |X| = \\sqrt{\\mathbb{E}[|X|^{2}]} \\geq{} 0 $\n",
    "#### $ \\hspace{0.15cm} \\rightarrow{} |X| = 0 \\; \\Leftrightarrow{} \\; \\mathbb{E}[|X|^{2}] = 0 $\n",
    "#### $ \\cdot{} \\text{homogeneity} $\n",
    "#### $ \\hspace{0.15cm} |\\alpha X| = (\\mathbb{E}[|\\alpha X|^{2}])^{1/2} = ( \\alpha^{2}\\mathbb{E}[|X|^{2}] )^{1/2} = |\\alpha| \\cdot{} |X| $\n",
    "#### $ \\hspace{0.15cm} \\rightarrow{} |\\alpha{}X| = |\\alpha{}| |X| $\n",
    "#### $ \\cdot{} \\text{Triangle inequality} $\n",
    "#### $ \\hspace{0.15cm} |X+Y|^{2} = \\mathbb{E}[(X+Y)^{2}] $\n",
    "#### $ \\hspace{1.575cm} = \\mathbb{E}[X^{2}] + 2\\mathbb{E}[XY] + \\mathbb{E}[Y^{2}] $\n",
    "#### $ \\hspace{1.575cm} \\leq{} \\mathbb{E}[X^{2}] + 2|\\mathbb{E}[XY]| + \\mathbb{E}[Y^{2}] \\;\\; \\because{} \\, a \\leq{} | a | \\;\\; \\text{ where } \\, a \\in{} \\mathbb{R} $\n",
    "#### $ \\hspace{1.575cm} \\leq{} \\mathbb{E}[X^{2}] + 2\\sqrt{\\mathbb{E}[X^{2}]\\mathbb{E}[Y^{2}]} + \\mathbb{E}[Y^{2}] \\;\\; \\because{} \\, \\text{Cauchy–Schwarz} : |E[XY]| \\leq{} \\sqrt{E[X^{2}]E[Y^{2}]} $\n",
    "#### $ \\hspace{1.575cm} = |X|^{2} + 2|X||Y| + |Y|^{2} = (|X|+|Y|)^{2} $\n",
    "#### $ \\hspace{0.15cm} \\rightarrow{} |X+Y| \\leq{} |X| + |Y| $\n",
    "#### $ \\hspace{0.15cm} \\therefore{} |\\cdot| \\, \\text{ is a norm on } \\, L^{2}(\\Omega) $\n",
    "---"
   ]
  },
  {
   "cell_type": "markdown",
   "id": "0ee77f00",
   "metadata": {},
   "source": [
    "#### **(3)** For $ X, Y \\in L^2(\\Omega) $, define\n",
    "#### $ \\langle X, Y \\rangle := \\mathbb{E}[XY] $\n",
    "#### Show that $ \\langle X, Y \\rangle $ is the inner product on $ L^2(\\Omega) $.\n",
    "#### $ \\cdot{} \\text{finiteness} $\n",
    "#### $ \\hspace{0.15cm} X,Y \\in L^{2} \\Rightarrow \\mathbb{E}[|XY|] \\le \\sqrt{\\mathbb{E}[X^{2}]\\mathbb{E}[Y^{2}]} < \\infty{} \\;\\; \\because{} \\text{Cauchy–Schwarz} $\n",
    "#### $ \\cdot{} \\text{linearity} $\n",
    "#### $ \\hspace{0.15cm} \\text{if } \\, \\forall \\alpha,\\beta \\in \\mathbb{R},\\; X_{1},X_{2},Y \\in L^{2}(\\Omega{}) $\n",
    "#### $ \\hspace{0.15cm} \\langle \\alpha X_{1} + \\beta X_{2}, Y \\rangle{} = \\mathbb{E}\\big[(\\alpha X_{1} + \\beta X_{2})Y\\big] = \\alpha\\mathbb{E}[X_{1}Y] + \\beta\\mathbb{E}[X_{2}Y] = \\alpha \\langle X_{1},Y \\rangle{} + \\beta \\langle X_{2},Y \\rangle{} $\n",
    "#### $ \\cdot{} \\text{symmetry} $\n",
    "#### $ \\hspace{0.15cm} \\langle X,Y \\rangle{} = \\mathbb{E}[XY] = \\mathbb{E}[YX] = \\langle Y,X \\rangle{} $ ,\n",
    "#### $ \\cdot{} \\text{positive-definiteness} $\n",
    "#### $ \\hspace{0.15cm} \\langle X,X \\rangle{} = \\mathbb{E}[X^{2}] \\ge 0 $\n",
    "#### $ \\hspace{0.15cm} \\langle X,X \\rangle{} = 0 \\;\\; \\Leftrightarrow{} \\;\\; \\mathbb{E}[X^{2}] = 0 \\;\\; \\Leftrightarrow{} \\;\\; X=0 $\n",
    "#### $ \\therefore{} \\langle \\cdot,\\cdot \\rangle \\, \\text{ is the inner product on } \\, L^2(\\Omega). $"
   ]
  }
 ],
 "metadata": {
  "kernelspec": {
   "display_name": "PYTCH",
   "language": "python",
   "name": "python3"
  },
  "language_info": {
   "codemirror_mode": {
    "name": "ipython",
    "version": 3
   },
   "file_extension": ".py",
   "mimetype": "text/x-python",
   "name": "python",
   "nbconvert_exporter": "python",
   "pygments_lexer": "ipython3",
   "version": "3.12.11"
  }
 },
 "nbformat": 4,
 "nbformat_minor": 5
}
