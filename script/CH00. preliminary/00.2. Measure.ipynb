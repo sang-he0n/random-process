{
 "cells": [
  {
   "attachments": {},
   "cell_type": "markdown",
   "metadata": {},
   "source": [
    "# CH00.2. **Measure**"
   ]
  },
  {
   "cell_type": "markdown",
   "metadata": {},
   "source": [
    "> ## **측도론(Meaure Theory)**"
   ]
  },
  {
   "cell_type": "markdown",
   "metadata": {},
   "source": [
    "#### **(1) 정의** : 길이, 넓이, 부피, 확률 등 크기(size) 개념을 집합에 일반화해서 할당하는 이론"
   ]
  },
  {
   "cell_type": "markdown",
   "metadata": {},
   "source": [
    "<b></b>"
   ]
  },
  {
   "cell_type": "markdown",
   "metadata": {},
   "source": [
    "> ## **시그마-공간(시그마-대수;$\\sigma{}$-field)**"
   ]
  },
  {
   "cell_type": "markdown",
   "metadata": {},
   "source": [
    "#### **(1) 정의** : 어떠한 집합 $ U $를 측정 간으한 집합들로 정의하기 위한 그 집합의 모임(Set of sets;collection)\n",
    "#### $ \\Rightarrow{} \\mathcal{B} := 2^{U} $ "
   ]
  },
  {
   "cell_type": "markdown",
   "metadata": {},
   "source": [
    "##### **(`PLUS`)** $ 2^{\\text{set}} $은 멱집합(pwoer set)을 의미함"
   ]
  },
  {
   "cell_type": "markdown",
   "metadata": {},
   "source": [
    "#### **(2) 공리** : 어떠한 집합 $ U $에 대응되는 시그마-공간 $ \\mathcal{B} $가 존재할 때 아래를 만족해야함\n",
    "##### $ \\hspace{0.15cm} $ ① $ \\mathcal{B} \\ni{} \\empty{} $ \n",
    "##### $ \\hspace{0.15cm} $ ② $ A \\in{} B \\Rightarrow{} A^{c} \\in{} B $ \n",
    "##### $ \\hspace{0.15cm} $ ③ $ A_{i} \\in{} B \\Rightarrow{} \\displaystyle{} \\cup^{\\infty{}}_{i=1} A_{i} \\in{} B $"
   ]
  },
  {
   "cell_type": "markdown",
   "metadata": {},
   "source": [
    "#### **(3) 성질** : 어떠한 집합 $ U $에 대응되는 시그마-공간 $ \\mathcal{B} $가 존재할 때 아래를 만족함\n",
    "##### $ \\hspace{0.15cm} $ ① $ U \\in{} \\mathcal{B} $\n",
    "##### $ \\hspace{0.15cm} $ ② $ A, B \\in{} B \\Rightarrow{} \\displaystyle{} (A \\cup{} B) \\in{} B $\n",
    "##### $ \\hspace{0.15cm} $ ③ $ A_{i} \\in{} B \\Rightarrow{} \\displaystyle{} \\cap^{\\infty{}}_{i=1} A_{i} \\in{} B $\n",
    "##### $ \\hspace{0.15cm} $ ④ **[LATEX]**\n",
    "##### $ \\hspace{0.15cm} $ ⑤ **[LATEX]**"
   ]
  },
  {
   "cell_type": "markdown",
   "metadata": {},
   "source": [
    "<b></b>"
   ]
  },
  {
   "cell_type": "markdown",
   "metadata": {},
   "source": [
    "> ## **가측 공간(Measurable space)**"
   ]
  },
  {
   "cell_type": "markdown",
   "metadata": {},
   "source": [
    "#### **(1) 정의** : 어떠한 집합과 그 집합과 대응되는 시그마-공간으로 구성된 객체(튜플)\n",
    "#### $ \\Rightarrow{} (\\Omega{}, \\mathcal{F}) $ "
   ]
  },
  {
   "cell_type": "markdown",
   "metadata": {},
   "source": [
    "<b></b>"
   ]
  },
  {
   "cell_type": "markdown",
   "metadata": {},
   "source": [
    "> ## **측도(Measure)**"
   ]
  },
  {
   "cell_type": "markdown",
   "metadata": {},
   "source": [
    "#### **(1) 정의** : 어떠한 가측 공간에서 시그마-공간의 원소를 사용하여 비음수 실수 스칼라를 반환하는 집합 함수(set function)\n",
    "#### $ \\Rightarrow{} \\mu{} : \\mathcal{B} \\rightarrow{} [0, \\infty{} ] $"
   ]
  },
  {
   "cell_type": "markdown",
   "metadata": {},
   "source": [
    "#### **(2) 공리** : 어떠한 시그마-공간 $ \\mathcal{B} $에 대응되는 측도 $ \\mu{} $가 존재할 때 아래를 만족해야함\n",
    "##### $ \\hspace{0.15cm} $ ① $ \\mu{}(A) \\geq{} 0 \\;\\; \\forall{} \\, A \\in{} \\mathcal{B} $\n",
    "##### $ \\hspace{0.15cm} $ ② $ \\mu{}(\\empty{}) = 0 $ \n",
    "##### $ \\hspace{0.15cm} $ ③ $ \\displaystyle{} \\mu{}(\\cup^{\\infty{}}_{i=1}A_{i}) = \\sum^{\\infty{}}_{i=1} \\mu{}(A_{i}) \\;\\; \\text{ s.t. } \\, A_{i} \\cap{} A_{j} = \\empty{} $ "
   ]
  },
  {
   "cell_type": "markdown",
   "metadata": {},
   "source": [
    "<b></b>"
   ]
  },
  {
   "cell_type": "markdown",
   "metadata": {},
   "source": [
    "> ## **측도 공간(Measure space)**"
   ]
  },
  {
   "cell_type": "markdown",
   "metadata": {},
   "source": [
    "#### **(1) 정의** : 어떠한 집합과 그 집합과 대응되는 시그마-공간, 측도와 함께 구성된 객체(튜플)\n",
    "#### $ \\Rightarrow{} (\\Omega{}, \\mathcal{B}, \\mu{}) $ "
   ]
  }
 ],
 "metadata": {
  "kernelspec": {
   "display_name": "PYTCH",
   "language": "python",
   "name": "python3"
  },
  "language_info": {
   "codemirror_mode": {
    "name": "ipython",
    "version": 3
   },
   "file_extension": ".py",
   "mimetype": "text/x-python",
   "name": "python",
   "nbconvert_exporter": "python",
   "pygments_lexer": "ipython3",
   "version": "3.10.16"
  },
  "orig_nbformat": 4
 },
 "nbformat": 4,
 "nbformat_minor": 2
}
