{
 "cells": [
  {
   "cell_type": "markdown",
   "id": "3fbd15f2",
   "metadata": {},
   "source": [
    "# CH01.2. **Minimum Mean Square Error**"
   ]
  },
  {
   "cell_type": "markdown",
   "id": "5abf12ac",
   "metadata": {},
   "source": [
    "> ## **MSE 최소화(Minimum Mean Square Error)**"
   ]
  },
  {
   "cell_type": "markdown",
   "id": "64a10b30",
   "metadata": {},
   "source": [
    "#### **(1) 정의** : ~을 찾는 추정치(estimator) $ \\hat{X} $를 찾는 것\n",
    "#### $ \\Rightarrow{} \\displaystyle{} \\min_{\\hat{X}\\in{}V} \\mathbb{E}\\big[{}||\\textbf{X}-\\hat{X}||^{2}_{2}\\big]{} \\;\\; \\text{ where } \\, V := \\{ g(\\textbf{Y}) \\in{} L^{2}(\\Omega{}) | g : \\mathbb{R}^{n} \\rightarrow{} \\mathbb{R}^{m}, \\;\\; \\mathbb{E}[||Y||^{2}_{2}] < \\infty{} \\} $"
   ]
  },
  {
   "cell_type": "markdown",
   "id": "b5c2ed0b",
   "metadata": {},
   "source": [
    "<b></b>"
   ]
  },
  {
   "cell_type": "markdown",
   "id": "125512cc",
   "metadata": {
    "vscode": {
     "languageId": "plaintext"
    }
   },
   "source": [
    "> ## **Orthogonal Principle**"
   ]
  }
 ],
 "metadata": {
  "kernelspec": {
   "display_name": "PYTCH",
   "language": "python",
   "name": "python3"
  },
  "language_info": {
   "name": "python",
   "version": "3.12.11"
  }
 },
 "nbformat": 4,
 "nbformat_minor": 5
}
