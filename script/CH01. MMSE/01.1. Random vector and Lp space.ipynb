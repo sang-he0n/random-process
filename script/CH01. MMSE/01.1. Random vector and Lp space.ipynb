{
 "cells": [
  {
   "cell_type": "markdown",
   "id": "3fbd15f2",
   "metadata": {},
   "source": [
    "# CH01.1. **Random vector and $ L^{p} $ space**"
   ]
  },
  {
   "cell_type": "markdown",
   "id": "958f9fbe",
   "metadata": {},
   "source": [
    "> ## **랜덤 벡터(Random vector)**"
   ]
  },
  {
   "cell_type": "markdown",
   "id": "92fb81bf",
   "metadata": {},
   "source": [
    "#### **(1) 정의** : **[~]**\n",
    "#### $ \\Rightarrow{} \\textbf{X} := \\begin{bmatrix} X_{1} \\\\ X_{2} \\\\ \\vdots{} \\\\ X_{m} \\end{bmatrix} \\;\\; \\text{ where } \\, \\textbf{X} = (X_{1}, X_{2}, \\cdots{}, X_{m}) : \\Omega{} \\rightarrow{} \\mathbb{R}^{m} $"
   ]
  },
  {
   "cell_type": "markdown",
   "id": "53974434",
   "metadata": {},
   "source": [
    "<b></b>"
   ]
  },
  {
   "cell_type": "markdown",
   "id": "39464922",
   "metadata": {},
   "source": [
    "> ## **랜덤 벡터의 기댓값(Expectation of random vector)**"
   ]
  },
  {
   "cell_type": "markdown",
   "id": "98ef81a3",
   "metadata": {},
   "source": [
    "#### **(1) 정의** : **[~]**\n",
    "#### $ \\Rightarrow{} \\mathbb{E}[\\textbf{X}] = \\begin{bmatrix} \\mathbb{E}[X_{1}] \\\\ \\mathbb{E}[X_{2}] \\\\ \\vdots{} \\\\ \\mathbb{E}[X_{m}] \\end{bmatrix} $"
   ]
  },
  {
   "cell_type": "markdown",
   "id": "fc749cee",
   "metadata": {},
   "source": [
    "#### **(2) 성질** : 어떠한 고정 행렬 $ A, C $ 및 스칼라 $ \\textbf{b} $와 랜덤 벡터 $ \\textbf{X}, \\textbf{Y} $이 존재할 때 다음이 성립함\n",
    "##### $ \\hspace{0.15cm} $ ① $ \\mathbb{E}[A\\textbf{X}+\\textbf{b}] = A\\mathbb{E}[\\textbf{X}] + \\textbf{b} $\n",
    "##### $ \\hspace{0.15cm} $ ② $ \\mathbb{E}[(A\\textbf{X})(C\\textbf{Y})^{T}] = A \\mathbb{E}[\\textbf{X}\\textbf{Y}^{T}] C^{T} $"
   ]
  },
  {
   "cell_type": "markdown",
   "id": "6c8af192",
   "metadata": {},
   "source": [
    "<b></b>"
   ]
  },
  {
   "cell_type": "markdown",
   "id": "a285d337",
   "metadata": {},
   "source": [
    "> ## **랜덤 벡터의 분산(Variance of random vector)**"
   ]
  },
  {
   "cell_type": "markdown",
   "id": "b34bcec6",
   "metadata": {},
   "source": [
    "#### **(1) 정의** : **[~]**\n",
    "#### $ \\Rightarrow{} \\text{var}(X) = \\text{cov}(X, X) = \\mathbb{E}\\big[{} (X-\\mathbb{E}[X])(X-\\mathbb{E}[X])^{T} \\big]{} $\n",
    "#### $ \\hspace{3.7cm} = \\begin{bmatrix} \\text{cov}(X_{1}, X_{1}) & \\text{cov}(X_{1}, X_{2}) & \\cdots{} & \\text{cov}(X_{1}, X_{m}) \\\\ \\text{cov}(X_{2}, X_{1}) & \\text{cov}(X_{2}, X_{2}) & \\cdots{} & \\text{cov}(X_{2}, X_{m}) \\\\ \\vdots{} & \\vdots{} & \\ddots{} & \\vdots{} \\\\ \\text{cov}(X_{m}, X_{1}) & \\text{cov}(X_{m}, X_{2}) & \\cdots{} & \\text{cov}(X_{m}, X_{m}) \\end{bmatrix} $"
   ]
  },
  {
   "cell_type": "markdown",
   "id": "483d9f18",
   "metadata": {},
   "source": [
    "#### **(2) 성질** : 어떠한 고정 행렬 $ A, C $ 및 스칼라 $ \\textbf{b}, \\textbf{c} $와 랜덤 벡터 $ \\textbf{X}, \\textbf{Y}, \\textbf{W}, \\textbf{Z} $이 존재할 때 다음이 성립함\n",
    "##### $ \\hspace{0.15cm} $ ① $ \\text{cov}(\\textbf{X}, \\textbf{Y}) = \\mathbb{E}[\\textbf{X}\\textbf{Y}^{T}] - \\mathbb{E}[\\textbf{X}](\\mathbb{E}[\\textbf{Y}])^{T} $\n",
    "##### $ \\hspace{0.15cm} $ ② $ \\text{cov}(A\\textbf{X} + \\textbf{b}, A\\textbf{X} + \\textbf{b}) = A\\text{cov}(\\textbf{X},\\textbf{X})A^{T} $\n",
    "##### $ \\hspace{0.15cm} $ ③ $ \\text{cov}(A\\textbf{X} + \\textbf{b}, C\\textbf{Y} + \\textbf{d}) = A\\text{cov}(\\textbf{X},\\textbf{Y})C^{T} $\n",
    "##### $ \\hspace{0.15cm} $ ④ $ \\text{cov}(\\textbf{X} + \\textbf{W}, \\textbf{Y} + \\textbf{Z}) = \\text{cov}(\\textbf{X}, \\textbf{Y}) + \\text{cov}(\\textbf{X}, \\textbf{Z}) + \\text{cov}(\\textbf{W}, \\textbf{Y}) + \\text{cov}(\\textbf{W}, \\textbf{Z})  $ "
   ]
  },
  {
   "cell_type": "markdown",
   "id": "82a3af2c",
   "metadata": {},
   "source": [
    "<b></b>"
   ]
  },
  {
   "cell_type": "markdown",
   "id": "99d9011e",
   "metadata": {},
   "source": [
    "> ## **랜덤 벡터의 $ L^{p} $ 놈($ L^{p} $ norm of random vector)**"
   ]
  },
  {
   "cell_type": "markdown",
   "id": "1a820d5c",
   "metadata": {},
   "source": [
    "#### **(1) 정의** : **[~]**\n",
    "#### $ \\Rightarrow{} ||\\textbf{X}||_{p} := \\displaystyle{} \\big({} \\sum^{m}_{i=1} |X_{i}|^{p} \\big){}^{\\frac{1}{p}} $"
   ]
  },
  {
   "cell_type": "markdown",
   "id": "7f9aa2a8",
   "metadata": {},
   "source": [
    "<b></b>"
   ]
  },
  {
   "cell_type": "markdown",
   "id": "e716bc7f",
   "metadata": {},
   "source": [
    "> ## **$ L^{p} $ 공간($ L^{p} $ space)**"
   ]
  },
  {
   "cell_type": "markdown",
   "id": "8d39fe67",
   "metadata": {},
   "source": [
    "#### **(1) 정의** : $ p $차 모멘트가 유한한 랜덤 벡터들의 집합\n",
    "#### $ \\Rightarrow{} L^{p}(\\Omega) := \\{ \\textbf{X} : \\Omega \\to \\mathbb{R}^{m} \\;|\\; \\mathbb{E}[||\\textbf{X}||^{p}_{p}] < \\infty \\} $"
   ]
  },
  {
   "cell_type": "markdown",
   "id": "16ac3de2",
   "metadata": {},
   "source": [
    "<b></b>"
   ]
  },
  {
   "cell_type": "markdown",
   "id": "ef63d49b",
   "metadata": {},
   "source": [
    "> ## **(Theorem 1-1)** __"
   ]
  },
  {
   "cell_type": "markdown",
   "id": "977fdf07",
   "metadata": {},
   "source": [
    "#### $ L^{2}(\\Omega{}) $ 공간은 벡터 공간(vector space)이다."
   ]
  },
  {
   "cell_type": "markdown",
   "id": "678e10e6",
   "metadata": {},
   "source": [
    "##### **(`WHY?`)** \n",
    "##### $ \\hspace{0.15cm} \\cdot{} \\, \\text{zero vector existence} $\n",
    "##### $ \\hspace{0.45cm} \\text{let } \\, \\textbf{0} := \\begin{bmatrix} 0 \\\\ 0 \\\\ \\vdots{} \\\\ 0 \\end{bmatrix} \\in{} \\mathbb{R}^{m}. $\n",
    "##### $ \\hspace{0.45cm} \\textbf{0} \\in{} L^{2}(\\Omega{}), \\;\\; \\mathbb{E}[||\\textbf{0}||^{2}_{2}] = 0 < \\infty{} $\n",
    "##### $ \\hspace{0.15cm} \\cdot{} \\, \\text{closure addition operation} $\n",
    "##### $ \\hspace{0.45cm} \\text{let } \\, \\textbf{X}, \\textbf{Y} \\in{} L^{2}(\\Omega{}). $\n",
    "##### $ \\hspace{0.45cm} \\mathbb{E}[||\\textbf{X}+\\textbf{Y}||^{2}_{2}] = \\displaystyle{} \\sum_{i}(X_{i}+Y_{i})^{2}  < \\sum_{i}(2X^{2}_{i}+2Y^{2}_{i}) = 2\\mathbb{E}[||\\textbf{X}||^{2}_{2}] + 2\\mathbb{E}[||\\textbf{Y}||^{2}_{2}] < \\infty{} $\n",
    "##### $ \\hspace{0.45cm} \\because{} \\, \\text{Young’s inequality}(p=q=2) $\n",
    "##### $ \\hspace{0.15cm} \\cdot{} \\, \\text{closure scalar multiplication} $\n",
    "##### $ \\hspace{0.45cm} \\text{let } \\, \\alpha{} \\in{} \\mathbb{R}, \\;\\; \\textbf{X} \\in{} L^{2}(\\Omega{}). $\n",
    "##### $ \\hspace{0.45cm} \\mathbb{E}[||\\alpha{}X||^{2}_{2}] = \\displaystyle{} \\sum_{i}(\\alpha{}X_{i})^{2} = \\alpha{}^{2}\\sum_{i}(X_{i})^{2} =\\alpha{}^{2}\\mathbb{E}[||X||^{2}_{2}] < \\infty{} $\n",
    "##### $ \\hspace{0.45cm} \\therefore{} L^{2}(\\Omega{}) \\, \\text{ is vector space}. $"
   ]
  }
 ],
 "metadata": {
  "kernelspec": {
   "display_name": "PYTCH",
   "language": "python",
   "name": "python3"
  },
  "language_info": {
   "name": "python",
   "version": "3.12.11"
  }
 },
 "nbformat": 4,
 "nbformat_minor": 5
}
