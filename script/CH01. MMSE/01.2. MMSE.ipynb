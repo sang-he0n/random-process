{
 "cells": [
  {
   "cell_type": "markdown",
   "id": "3fbd15f2",
   "metadata": {},
   "source": [
    "# CH01.2. **Minimum Mean Square Error**"
   ]
  },
  {
   "cell_type": "markdown",
   "id": "5abf12ac",
   "metadata": {},
   "source": [
    "> ## **MSE 최소화(Minimum Mean Square Error;MMSE)**"
   ]
  },
  {
   "cell_type": "markdown",
   "id": "64a10b30",
   "metadata": {},
   "source": [
    "#### **(1) 정의** : 힐베르트 공간에서 MSE를 최소화하는 추정기(estimator) $ \\hat{\\textbf{X}} $를 찾는 문제\n",
    "#### $ = $ 힐베르트 공간에서 랜덤 벡터 $ \\textbf{X}$까지의 최소 거리를 정의하는 추정기 $ \\hat{\\textbf{X}} $를 찾는 문제\n",
    "#### $ \\Leftrightarrow{} \\displaystyle{} \\argmin_{\\hat{\\textbf{X}}\\in{}\\mathcal{V}} \\mathbb{E}\\big[{}||\\textbf{X}-\\hat{\\textbf{X}}||^{2}_{2}\\big]{} \\;\\; \\text{ where } \\, \\mathcal{V} \\subset{} L^{2}(\\Omega{}), \\;\\;  <\\textbf{X}, \\textbf{Y}> := \\mathbb{E}[\\textbf{X}^{T}\\textbf{Y}] $"
   ]
  },
  {
   "cell_type": "markdown",
   "id": "4846d9f8",
   "metadata": {},
   "source": [
    "##### **(`PLUS`)** MSE 최소화 문제는 $ L^{2}(\\Omega{}) $ 공간에서 내적 $ <\\textbf{X},\\textbf{Y}> = \\mathbb{E}[\\textbf{X}^{T}\\textbf{Y}] $ 및 $ \\mathcal{V} $가 닫힌 부분공간이어야만 최적해를 구할 수 있음"
   ]
  },
  {
   "cell_type": "markdown",
   "id": "b5c2ed0b",
   "metadata": {},
   "source": [
    "<b></b>"
   ]
  },
  {
   "cell_type": "markdown",
   "id": "89d1b272",
   "metadata": {},
   "source": [
    "> ## **$ L^{2} $ 공간에서 직교 투영(Orthogonal projection in $ \\, L^{2} $)**"
   ]
  },
  {
   "cell_type": "markdown",
   "id": "9a2791c4",
   "metadata": {},
   "source": [
    "#### **(1) 정의** : 힐베르트 공간의 어떠한 랜덤 벡터를 닫힌 부분 공간에 직교하게 내리는 연산\n",
    "#### $ \\Leftrightarrow{} \\mathbb{} \\Pi{}_{\\mathcal{V}}(\\textbf{X}) := \\displaystyle{} \\argmin_{\\hat{\\textbf{X}}\\in{}\\mathcal{V}} \\mathbb{E}\\big[{}||\\textbf{X}-\\hat{\\textbf{X}}||^{2}_{2}\\big]{} \\;\\; \\text{ where } \\, <\\textbf{X}, \\textbf{Y}> := \\mathbb{E}[\\textbf{X}^{T}\\textbf{Y}], \\;\\; \\, \\mathcal{V} \\, \\text{ is closed in } \\, L^{2}(\\Omega{}) $"
   ]
  },
  {
   "cell_type": "markdown",
   "id": "bf21c014",
   "metadata": {},
   "source": [
    "##### **(`PLUS`)** 유클리드 공간에서의 시각화\n",
    "##### $ \\hspace{0.15cm} $ <img src=\"../../img/01.2. MMSE (1).png\" align=\"center\" width=\"50%\" height=\"50%\"></img>  "
   ]
  },
  {
   "cell_type": "markdown",
   "id": "1895d341",
   "metadata": {},
   "source": [
    "#### **(2) 성질** : \n",
    "##### $ \\hspace{0.15cm} $ ① $ ||\\Pi{}_{\\mathcal{V}}(\\textbf{X})||_{2} \\leq{} ||\\textbf{X}||_{2} \\;\\; \\because{} \\, \\text{pythagorean theorem} $\n",
    "##### $ \\hspace{0.15cm} $ ② $ \\Pi{}_{\\mathcal{V}}\\big({}\\Pi{}_{\\mathcal{V}}(\\textbf{X})\\big){} = \\Pi{}_{\\mathcal{V}}(\\textbf{X}) \\;\\; \\because{} \\, \\Pi{}_{\\mathcal{V}}(\\textbf{X}) \\in{} \\mathcal{V} $\n",
    "##### $ \\hspace{0.15cm} $ ③ $ \\Pi{}_{\\mathcal{V}}(a_{1}\\textbf{X}_{1}+a_{2}\\textbf{X}_{2}) = a_{1} \\, \\Pi{}_{\\mathcal{V}}(\\textbf{X}_{1}) + a_{2} \\, \\Pi{}_{\\mathcal{V}}(\\textbf{X}_{2}) $"
   ]
  },
  {
   "cell_type": "markdown",
   "id": "0ca20fd0",
   "metadata": {},
   "source": [
    "<b></b>"
   ]
  },
  {
   "cell_type": "markdown",
   "id": "125512cc",
   "metadata": {
    "vscode": {
     "languageId": "plaintext"
    }
   },
   "source": [
    "> ## **(Theorem 1-4)** Orthogonality principle"
   ]
  },
  {
   "cell_type": "markdown",
   "id": "fab0b3e2",
   "metadata": {},
   "source": [
    "#### 힐베르트 공간에서 MSE 문제는 **부분공간 $ \\mathcal{V} $가 닫혀있을 때(closed)일 때** 아래가 성립한다. "
   ]
  },
  {
   "cell_type": "markdown",
   "id": "ff65bdcb",
   "metadata": {},
   "source": [
    "#### **(0)** 부분공간 $ \\mathcal{V} $에서 최적해 $ \\hat{\\textbf{X}}^{*} $가 존재한다.\n",
    "##### $ \\Leftrightarrow{} \\exist{} \\, \\hat{\\textbf{X}}^{*} \\in{} \\mathcal{V} \\;\\; \\text{ if and only if } \\, \\mathcal{V} \\, \\text{ is closed subspace of } \\, L^{2}(\\Omega{}) $"
   ]
  },
  {
   "cell_type": "markdown",
   "id": "aa23ca60",
   "metadata": {},
   "source": [
    "##### **(`WHY?`)** \n",
    "##### $ \\hspace{0.15cm} \\text{let } \\, d := \\displaystyle{} \\inf_{Z \\in{} \\mathcal{V}}||\\textbf{X}-Z||. $\n",
    "##### $ \\hspace{0.15cm} $ **[LATEX]**"
   ]
  },
  {
   "cell_type": "markdown",
   "id": "e655fe52",
   "metadata": {},
   "source": [
    "#### **(1)** 최적해 $ \\hat{\\textbf{X}}^{*} $의 오차 $ \\boldsymbol{\\epsilon{}}^{*} $은 부분 공간 $ \\mathcal{V} $와 직교한다. ($ = $ 부분 공간 $ \\mathcal{V} $의 모든 벡터와 직교한다.)\n",
    "#### $ \\Leftrightarrow{} <\\boldsymbol{\\epsilon{}}^{*},\\hat{\\textbf{X}}> = \\mathbb{E}[(\\boldsymbol{\\epsilon{}}^{*})^{T}\\hat{\\textbf{X}}] = 0 \\;\\;\\;\\; \\forall{} \\, \\hat{\\textbf{X}} \\in{} \\mathcal{V}, \\;\\; \\text{ where } \\, \\boldsymbol{\\epsilon{}}^{*} = \\textbf{X} - \\hat{\\textbf{X}}^{*} $\n",
    "#### $ \\Leftrightarrow{} \\boldsymbol{\\epsilon{}}^{*} \\perp{} \\mathcal{V} $"
   ]
  },
  {
   "cell_type": "markdown",
   "id": "166c2ac8",
   "metadata": {},
   "source": [
    "##### **(`WHY?`)** \n",
    "##### $ \\hspace{0.15cm} \\text{let } \\, f(t) = \\mathbb{E}[|| \\textbf{X} - (\\hat{\\textbf{X}}^{*}+t\\textbf{V}) ||^{2}_{2}] \\;\\; \\text{ where } \\, t \\in{} \\mathbb{R}, \\;\\; \\textbf{V} \\in{} \\mathcal{V}, $ \n",
    "##### $ \\hspace{0.15cm} \\frac{\\text{d}}{\\text{d}t}f(t) = \\frac{\\text{d}}{\\text{d}t}\\bigg({}\\mathbb{E}[||\\textbf{X}-\\hat{\\textbf{X}}^{*}||^{2}_{2}]-2t\\mathbb{E}[(\\textbf{X}-\\hat{\\textbf{X}}^{*})^{T}\\textbf{V}] + t^{2} \\mathbb{E}[||\\textbf{V}||^{2}_{2}] \\bigg){} $\n",
    "##### $ \\hspace{1.175cm} = -2\\mathbb{E}[(\\textbf{X}-\\hat{\\textbf{X}}^{*})^{T}\\textbf{V}] + 2t \\mathbb{E}[||\\textbf{V}||^{2}_{2}] = f^{'}(t) $\n",
    "##### $ \\hspace{0.15cm} f^{'}(0) = -2\\mathbb{E}[(\\textbf{X}-\\hat{\\textbf{X}}^{*})^{T}\\textbf{V}] = 0 \\;\\; \\because{} \\, \\hat{\\textbf{X}}^{*} \\, \\text{ is best-MMSE R.V.} \\; \\& \\; f(t) \\, \\text{ is convex function}. $\n",
    "##### $ \\hspace{0.15cm} \\therefore{} \\mathbb{E}[(\\textbf{X}-\\hat{\\textbf{X}}^{*})^{T}\\textbf{V}] = 0 \\;\\;\\;\\; \\forall{} \\, \\textbf{V} \\in{} \\mathcal{V} $ "
   ]
  },
  {
   "cell_type": "markdown",
   "id": "17af2016",
   "metadata": {},
   "source": [
    "#### **(2)** 최적해 $ \\hat{\\textbf{X}}^{*} $는 정사영으로 유일하게 정의된다\n",
    "#### $ \\Leftrightarrow{} \\exist{}! \\, \\hat{\\textbf{X}}^{*} = \\Pi{}_{\\mathcal{V}}(\\textbf{X}) \\;\\; \\text{ s.t. } \\, \\mathbb{E}[||\\textbf{X}-\\hat{\\textbf{X}}^{*}||^{2}_{2}] \\leq{} \\mathbb{E}[||\\textbf{X}-\\hat{\\textbf{X}}||^{2}_{2}], \\;\\; \\forall{} \\, \\hat{\\textbf{X}} \\in{} \\mathcal{V} $"
   ]
  },
  {
   "cell_type": "markdown",
   "id": "63e94b4b",
   "metadata": {},
   "source": [
    "##### **(`WHY?`)** \n",
    "##### $ \\hspace{0.15cm} \\text{assume that there are } \\, \\hat{\\textbf{X}}^{*} \\, \\text{ and } \\, \\tilde{X} \\, \\text{ that are minimize the MSE}. $\n",
    "##### $ \\hspace{0.15cm} \\mathbb{E}[||\\textbf{X}-\\hat{\\textbf{X}}^{*}||^{2}_{2}] = \\mathbb{E}[||\\textbf{X}-\\hat{\\textbf{X}}^{*}||^{2}_{2}] = \\mathbb{E}[||\\textbf{X}-\\hat{\\textbf{X}}^{*}+\\tilde{X}-\\tilde{X}||^{2}_{2}] $\n",
    "##### $ \\hspace{2.4cm} = \\mathbb{E}[||(\\textbf{X}-\\tilde{X})+(\\tilde{X}-\\hat{\\textbf{X}}^{*})||^{2}_{2}] $\n",
    "##### $ \\hspace{2.4cm} = \\mathbb{E}[||\\textbf{X}-\\tilde{X}||^{2}_{2}]+2\\mathbb{E}\\big[{}(\\textbf{X}-\\tilde{X})^{T}(\\tilde{X}-\\hat{\\textbf{X}}^{*})\\big]{}+\\mathbb{E}[||\\tilde{X}-\\hat{\\textbf{X}}^{*}||^{2}_{2}] $\n",
    "##### $ \\hspace{2.4cm} = \\mathbb{E}[||\\textbf{X}-\\tilde{X}||^{2}_{2}]+\\mathbb{E}[||\\tilde{X}-\\hat{\\textbf{X}}^{*}||^{2}_{2}] \\;\\; \\because{} \\, (\\tilde{X}-\\hat{\\textbf{X}}^{*}) \\in{} \\mathcal{V} \\; \\Rightarrow{} \\; (\\tilde{X}-\\hat{\\textbf{X}}^{*})\\perp{}(\\textbf{X}-\\tilde{X})=\\boldsymbol{\\epsilon{}} $\n",
    "##### $ \\hspace{2.4cm} \\geq{} \\mathbb{E}[||\\textbf{X}-\\tilde{X}||^{2}_{2}] \\;\\; (\\text{contradiction}) $\n",
    "##### $ \\hspace{0.15cm} \\therefore{} \\hat{\\textbf{X}}^{*} = \\tilde{X} $"
   ]
  },
  {
   "cell_type": "markdown",
   "id": "12c47e57",
   "metadata": {},
   "source": [
    "##### **(`PLUS`)** 유클리드 공간에서의 시각화\n",
    "##### $ \\hspace{0.15cm} $ <img src=\"../../img/01.2. MMSE (2).png\" align=\"center\" width=\"50%\" height=\"50%\"></img>  "
   ]
  },
  {
   "cell_type": "markdown",
   "id": "782cd1e0",
   "metadata": {},
   "source": [
    "#### **(3)** MMSE를 아래와 같이 표현할 수 있다.\n",
    "#### $ \\Leftrightarrow{} \\mathbb{E}[||\\boldsymbol{\\epsilon{}}^{*}||^{2}_{2}] = \\mathbb{E}[||\\textbf{X}||^{2}_{2}] - \\mathbb{E}[||\\hat{\\textbf{X}}^{*}||^{2}_{2}] \\;\\; \\because{} \\, \\text{pythagorean theorem} $"
   ]
  },
  {
   "cell_type": "markdown",
   "id": "38f95f46",
   "metadata": {},
   "source": [
    "<b></b>"
   ]
  },
  {
   "cell_type": "markdown",
   "id": "8f68756d",
   "metadata": {},
   "source": [
    "> ## **(Theorem 1-5)** Subspace calculus"
   ]
  },
  {
   "cell_type": "markdown",
   "id": "f77b118e",
   "metadata": {},
   "source": [
    "#### **(1)** (닫힌) 부분공간이 $ \\mathcal{V_{2}} \\subset{} \\mathcal{V_{1}} $일 때, $ \\, \\mathcal{V}_{2}$으로 정사영한 결과와 $\\mathcal{V}{1}$ 이후 $ \\mathcal{V}_{2}$로 정사영한 결과가 동일하다.\n",
    "#### $ \\Leftrightarrow{} \\Pi{}_{\\mathcal{V_{2}}}(\\textbf{X}) = \\Pi{}_{\\mathcal{V_{2}}} \\big({} \\Pi{}_{\\mathcal{V_{1}}}(\\textbf{X}) \\big){} \\;\\; \\text{ s.t. }\\, \\mathcal{V}_{2} \\subset{} \\mathcal{V}_{1} $"
   ]
  },
  {
   "cell_type": "markdown",
   "id": "946700ba",
   "metadata": {},
   "source": [
    "##### **(`WHY?`)** \n",
    "##### $ \\hspace{0.15cm} \\text{let } \\, \\forall{} \\, \\textbf{V} \\in{} \\mathcal{V}_{2}. $\n",
    "##### $ \\hspace{0.15cm} <\\textbf{X} - \\Pi{}_{\\mathcal{V_{2}}} \\big({} \\Pi{}_{\\mathcal{V_{1}}}(\\textbf{X}) \\big){}, \\textbf{V}> = <\\textbf{X} - \\Pi{}_{\\mathcal{V_{1}}}(\\textbf{X}), \\textbf{V}> + <\\Pi{}_{\\mathcal{V_{1}}}(\\textbf{X}) - \\Pi{}_{\\mathcal{V_{2}}} \\big({} \\Pi{}_{\\mathcal{V_{1}}}(\\textbf{X}) \\big){}, \\textbf{V}> $\n",
    "##### $ \\hspace{4.075cm} = 0 + <\\Pi{}_{\\mathcal{V_{1}}}(\\textbf{X}) - \\Pi{}_{\\mathcal{V_{2}}} \\big({} \\Pi{}_{\\mathcal{V_{1}}}(\\textbf{X}) \\big){}, \\textbf{V}> \\;\\; \\because{} \\, \\textbf{X} - \\Pi{}_{\\mathcal{V_{1}}}(\\textbf{X}) \\perp{} \\textbf{V}, \\;\\; \\textbf{V} \\in{} \\mathcal{V}_{2} \\subset{} \\mathcal{V}_{1} $\n",
    "##### $ \\hspace{4.075cm} = 0 \\;\\; \\because{} \\, \\Pi{}_{\\mathcal{V_{1}}}(\\textbf{X}) - \\Pi{}_{\\mathcal{V_{2}}} \\big({} \\Pi{}_{\\mathcal{V_{1}}}(\\textbf{X}) \\big){} \\perp{} \\textbf{V}, \\;\\; \\textbf{V} \\in{} \\mathcal{V}_{2} $\n",
    "##### $ \\hspace{0.15cm} \\therefore{} \\Pi{}_{\\mathcal{V_{2}}}(\\textbf{X}) = \\Pi{}_{\\mathcal{V_{2}}} \\big({} \\Pi{}_{\\mathcal{V_{1}}}(\\textbf{X}) \\big){} $ "
   ]
  },
  {
   "cell_type": "markdown",
   "id": "ae42638e",
   "metadata": {},
   "source": [
    "#### **(2)** 부분공간이 $ \\mathcal{V_{2}} \\subset{} \\mathcal{V_{1}} $일 때, 오차 $ \\boldsymbol{\\epsilon{}}^{*} $을 두 부분으로 분해할 수 있다.\n",
    "#### $ \\Leftrightarrow{} \\boldsymbol{\\epsilon{}}^{*} := \\textbf{X} - \\Pi{}_{\\mathcal{V}_{2}}(\\textbf{X}) = \\boldsymbol{\\epsilon{}}_{1}^{*} + \\boldsymbol{\\epsilon{}}_{2}^{*} \\;\\; \\text{ s.t. } \\, \\mathcal{V}_{2} \\subset{} \\mathcal{V}_{1} $\n",
    "#### $ \\hspace{0.45cm} \\text{where } \\, \\boldsymbol{\\epsilon{}}_{1}^{*} := \\textbf{X} - \\Pi{}_{\\mathcal{V}_{1}}(\\textbf{X}), \\;\\; \\boldsymbol{\\epsilon{}}_{2}^{*} := \\Pi{}_{\\mathcal{V}_{1}}(\\textbf{X}) - \\Pi{}_{\\mathcal{V}_{2}}\\big({}\\Pi{}_{\\mathcal{V}_{1}}(\\textbf{X})\\big){} $"
   ]
  },
  {
   "cell_type": "markdown",
   "id": "5daa09c4",
   "metadata": {},
   "source": [
    "##### **(`WHY?`)** \n",
    "##### $ \\hspace{0.15cm} \\boldsymbol{\\epsilon{}}^{*}_{1} + \\boldsymbol{\\epsilon{}}_{2}^{*} = \\big({} \\textbf{X} - \\Pi{}_{\\mathcal{V}_{1}}(\\textbf{X}) \\big){} + \\bigg({} \\Pi{}_{\\mathcal{V}_{1}}(\\textbf{X}) - \\Pi{}_{\\mathcal{V}_{2}}\\big({}\\Pi{}_{\\mathcal{V}_{1}}(\\textbf{X})\\big){} \\bigg){} $\n",
    "##### $ \\hspace{1.3cm} = \\big({} \\textbf{X} - \\Pi{}_{\\mathcal{V}_{1}}(\\textbf{X}) \\big){} + \\big({} \\Pi{}_{\\mathcal{V}_{1}}(\\textbf{X}) - \\Pi{}_{\\mathcal{V}_{2}}(\\textbf{X}) \\big){} \\;\\; \\because{} \\, \\Pi{}_{\\mathcal{V_{2}}}(\\textbf{X}) = \\Pi{}_{\\mathcal{V_{2}}} \\big({} \\Pi{}_{\\mathcal{V_{1}}}(\\textbf{X}) \\big){} $\n",
    "##### $ \\hspace{1.3cm} = \\textbf{X} - \\Pi{}_{\\mathcal{V}_{2}}(\\textbf{X}) $\n",
    "##### $ \\hspace{0.15cm} \\therefore{} \\boldsymbol{\\epsilon{}}^{*} = \\boldsymbol{\\epsilon{}}^{*}_{1} + \\boldsymbol{\\epsilon{}}^{*}_{2} $"
   ]
  },
  {
   "cell_type": "markdown",
   "id": "dca314dd",
   "metadata": {},
   "source": [
    "#### **(3)** 부분공간이 $ \\mathcal{V_{2}} \\subset{} \\mathcal{V_{1}} $일 때, $ \\mathcal{V}_{1} $의 MSE가 $ \\mathcal{V}_{1} $의 MSE보다 크거나 작다.\n",
    "#### $ \\Leftrightarrow{} \\displaystyle{} \\min_{\\hat{\\textbf{X}}\\in{}\\mathcal{V}_{1}}\\mathbb{E}[||\\textbf{X}-\\hat{\\textbf{X}}||^{2}_{2}] \\leq{} \\min_{\\hat{\\textbf{X}}\\in{}\\mathcal{V}_{2}}\\mathbb{E}[||\\textbf{X}-\\hat{\\textbf{X}}||^{2}_{2}] \\;\\; \\text{ s.t. } \\, \\mathcal{V}_{2} \\subset{} \\mathcal{V}_{1} $"
   ]
  },
  {
   "cell_type": "markdown",
   "id": "5ddda6d4",
   "metadata": {},
   "source": [
    "#### **(4)** 부분공간 $ \\mathcal{V}_{1}, \\mathcal{V}_{2} $가 직교하고 이를 직교합하는 $ \\mathcal{V} $가 있을 때, $ \\mathcal{V} $로 정사영한 결과는 두 부분공간으로 정사영한 결과와 같다.\n",
    "#### $ \\Leftrightarrow{} \\Pi{}_{\\mathcal{V}}(\\textbf{X}) = \\Pi{}_{\\mathcal{V_{1}}}(\\textbf{X}) + \\Pi{}_{\\mathcal{V_{2}}}(\\textbf{X}) \\;\\; \\text{ s.t. } \\, \\mathcal{V} = \\mathcal{V}_{1} \\oplus{} \\mathcal{V}_{2}, \\;\\; \\mathcal{V}_{1} \\perp{} \\mathcal{V}_{2} $\n",
    "#### $ \\hspace{0.45cm} \\text{where } \\oplus{} \\, \\text{ is orthogonal sum operator}. $"
   ]
  },
  {
   "cell_type": "markdown",
   "id": "48fe4c0c",
   "metadata": {},
   "source": [
    "##### **(`WHY?`)** \n",
    "##### $ \\hspace{0.15cm} \\text{let } \\, \\textbf{Y} := \\Pi{}_{\\mathcal{V_{1}}}(\\textbf{X}) + \\Pi{}_{\\mathcal{V_{2}}}(\\textbf{X}) \\in{} \\mathcal{V}, \\;\\; \\textbf{V} := \\textbf{V}_{1} + \\textbf{V}_{2} \\in{} \\mathcal{V} \\;\\; \\text{ where } \\, \\textbf{V}_{i} \\in{} \\mathcal{V}_{i} \\; (i=1,2) $\n",
    "##### $ \\hspace{0.15cm} <\\textbf{X} - \\textbf{Y}, \\textbf{V}> = <\\textbf{X} - \\Pi{}_{\\mathcal{V_{1}}}(\\textbf{X}) - \\Pi{}_{\\mathcal{V_{2}}}(\\textbf{X}), \\textbf{V}_{1}+\\textbf{V}_{2}> $\n",
    "##### $ \\hspace{2.4cm} = <\\textbf{X} - \\Pi{}_{\\mathcal{V_{1}}}(\\textbf{X}) - \\Pi{}_{\\mathcal{V_{2}}}(\\textbf{X}), \\textbf{V}_{1}> + <\\textbf{X} - \\Pi{}_{\\mathcal{V_{1}}}(\\textbf{X}) - \\Pi{}_{\\mathcal{V_{2}}}(\\textbf{X}), \\textbf{V}_{2}> $\n",
    "##### $ \\hspace{2.4cm} = <\\textbf{X} - \\Pi{}_{\\mathcal{V_{1}}}(\\textbf{X}), \\textbf{V}_{1}> - <\\Pi{}_{\\mathcal{V_{2}}}(\\textbf{X}), \\textbf{V}_{1}> + <\\textbf{X} - \\Pi{}_{\\mathcal{V_{2}}}(\\textbf{X}), \\textbf{V}_{2}> - <\\Pi{}_{\\mathcal{V_{1}}}(\\textbf{X}), \\textbf{V}_{2}> $\n",
    "##### $ \\hspace{2.4cm} = 0 - <\\Pi{}_{\\mathcal{V_{2}}}(\\textbf{X}), \\textbf{V}_{1}> + <\\textbf{X} - \\Pi{}_{\\mathcal{V_{2}}}(\\textbf{X}), \\textbf{V}_{2}> - <\\Pi{}_{\\mathcal{V_{1}}}(\\textbf{X}), \\textbf{V}_{2}> \\;\\; \\because{} \\, \\textbf{X} - \\Pi{}_{\\mathcal{V_{1}}}(\\textbf{X}) \\perp{} \\textbf{V}_{1} $\n",
    "##### $ \\hspace{2.4cm} = 0 + <\\textbf{X} - \\Pi{}_{\\mathcal{V_{2}}}(\\textbf{X}), \\textbf{V}_{2}> - <\\Pi{}_{\\mathcal{V_{1}}}(\\textbf{X}), \\textbf{V}_{2}> \\;\\; \\because{} \\, \\Pi{}_{\\mathcal{V_{2}}}(\\textbf{X}) \\in{} \\mathcal{V}_{2} \\perp{} \\mathcal{V}_{1} $\n",
    "##### $ \\hspace{2.4cm} = 0 - <\\Pi{}_{\\mathcal{V_{1}}}(\\textbf{X}), \\textbf{V}_{2}> \\;\\; \\because{} \\, \\textbf{X} - \\Pi{}_{\\mathcal{V_{2}}}(\\textbf{X}) \\perp{} \\textbf{V}_{2} $\n",
    "##### $ \\hspace{2.4cm} = 0 \\;\\; \\because{} \\, \\Pi{}_{\\mathcal{V_{1}}}(\\textbf{X}) \\in{} \\mathcal{V}_{1} \\perp{} \\mathcal{V}_{2} $\n",
    "##### $ \\hspace{0.15cm} \\therefore{} \\textbf{X} - \\textbf{Y} \\perp{} \\textbf{V} \\Rightarrow{} \\Pi{}_{\\mathcal{V}}(\\textbf{X}) $"
   ]
  }
 ],
 "metadata": {
  "kernelspec": {
   "display_name": "PYTCH",
   "language": "python",
   "name": "python3"
  },
  "language_info": {
   "name": "python",
   "version": "3.12.11"
  }
 },
 "nbformat": 4,
 "nbformat_minor": 5
}
