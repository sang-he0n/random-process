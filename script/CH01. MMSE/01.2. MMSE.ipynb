{
 "cells": [
  {
   "cell_type": "markdown",
   "id": "3fbd15f2",
   "metadata": {},
   "source": [
    "# CH01.2. **Minimum Mean Square Error**"
   ]
  },
  {
   "cell_type": "markdown",
   "id": "5abf12ac",
   "metadata": {},
   "source": [
    "> ## **MSE 최소화(Minimum Mean Square Error;MMSE)**"
   ]
  },
  {
   "cell_type": "markdown",
   "id": "64a10b30",
   "metadata": {},
   "source": [
    "#### **(1) 정의** : 힐베르트 공간에서 MSE를 최소화하는 추정기(estimator) $ \\hat{X} $를 찾는 문제\n",
    "#### $ \\Leftrightarrow{} \\displaystyle{} \\argmin_{\\hat{X}\\in{}\\mathcal{V}} \\mathbb{E}\\big[{}||\\textbf{X}-\\hat{X}||^{2}_{2}\\big]{} \\;\\; \\text{ where } \\, \\mathcal{V} \\in{} L^{2}(\\Omega{}) $"
   ]
  },
  {
   "cell_type": "markdown",
   "id": "4846d9f8",
   "metadata": {},
   "source": [
    "##### **(`PLUS`)** $ L^{2}(\\Omega{}) $ 공간에서 내적 $ <X,Y> = \\mathbb{E}[X^{T}Y] $라고 정의되면 힐베르트 공간이 되고, MSE는 정사영(projection) 문제로 변환됨"
   ]
  },
  {
   "cell_type": "markdown",
   "id": "b5c2ed0b",
   "metadata": {},
   "source": [
    "<b></b>"
   ]
  },
  {
   "cell_type": "markdown",
   "id": "89d1b272",
   "metadata": {},
   "source": [
    "> ## **$ L^{2} $ 공간에서 직교 투영(Orthogonal projection in $ \\, L^{2} $)**"
   ]
  },
  {
   "cell_type": "markdown",
   "id": "9a2791c4",
   "metadata": {},
   "source": [
    "#### **(1) 정의** : 힐베르트 공간의 어떠한 랜덤 벡터를 부분 공간에 직교하게 내리는 연산\n",
    "#### $ \\Leftrightarrow{} \\mathbb{} \\Pi{}_{\\mathcal{V}}(\\textbf{X}) := \\displaystyle{} \\argmin_{\\hat{X}\\in{}\\mathcal{V}} \\mathbb{E}\\big[{}||\\textbf{X}-\\hat{X}||^{2}_{2}\\big]{} \\;\\; \\text{ where } \\, <X, Y> := \\mathbb{E}[X^{T}Y] $"
   ]
  },
  {
   "cell_type": "markdown",
   "id": "bf21c014",
   "metadata": {},
   "source": [
    "##### **(`PLUS`)** 유클리드 공간에서의 시각화\n",
    "##### $ \\hspace{0.15cm} $ <img src=\"../../img/01.2. MMSE (1).png\" align=\"center\" width=\"50%\" height=\"50%\"></img>  "
   ]
  },
  {
   "cell_type": "markdown",
   "id": "1895d341",
   "metadata": {},
   "source": [
    "#### **(2) 성질** : \n",
    "##### $ \\hspace{0.15cm} $ ① $ ||\\Pi{}_{\\mathcal{V}}(\\textbf{X})||_{2} \\leq{} ||\\textbf{X}||_{2} $\n",
    "##### $ \\hspace{0.15cm} $ ② $ \\Pi{}_{\\mathcal{V}}\\big({}\\Pi{}_{\\mathcal{V}}(\\textbf{X})\\big){} = \\Pi{}_{\\mathcal{V}}(\\textbf{X}) $\n",
    "##### $ \\hspace{0.15cm} $ ③ $ \\Pi{}_{\\mathcal{V}}(a_{1}\\textbf{X}_{1}+a_{2}\\textbf{X}_{2}) = a_{1} \\, \\Pi{}_{\\mathcal{V}}(\\textbf{X}_{1}) + a_{2} \\, \\Pi{}_{\\mathcal{V}}(\\textbf{X}_{2}) $\n",
    "##### $ \\hspace{0.15cm} $ ④ $ \\mathcal{V}_{1} \\supset{} \\mathcal{V}_{2} \\; \\Rightarrow{} \\; \\Pi{}_{\\mathcal{V_{2}}}(\\textbf{X}) = \\Pi{}_{\\mathcal{V_{2}}} \\big({} \\Pi{}_{\\mathcal{V_{1}}}(\\textbf{X}) \\big){} $\n",
    "##### $ \\hspace{0.15cm} $ ⑤ $ \\mathcal{V} = \\mathcal{V}_{1} \\oplus{} \\mathcal{V}_{2}, \\;\\; \\mathcal{V}_{1} \\perp{} \\mathcal{V}_{2} \\; \\Rightarrow{} \\; \\Pi{}_{\\mathcal{V}} = \\Pi{}_{\\mathcal{V_{1}}}(\\textbf{X}) + \\Pi{}_{\\mathcal{V_{2}}}(\\textbf{X}) $"
   ]
  },
  {
   "cell_type": "markdown",
   "id": "0ca20fd0",
   "metadata": {},
   "source": [
    "<b></b>"
   ]
  },
  {
   "cell_type": "markdown",
   "id": "125512cc",
   "metadata": {
    "vscode": {
     "languageId": "plaintext"
    }
   },
   "source": [
    "> ## **(Theorem 1-3)** Orthogonal principle"
   ]
  },
  {
   "cell_type": "markdown",
   "id": "fab0b3e2",
   "metadata": {},
   "source": [
    "#### 힐베르트 공간에서 MSE 문제는 **부분 공간 $ \\mathcal{V} $가 닫혀있는 부분 공간(closed subspace)일 때** 아래가 성립한다. "
   ]
  },
  {
   "cell_type": "markdown",
   "id": "17af2016",
   "metadata": {},
   "source": [
    "#### **(1)** MSE 문제는 **유일한** 최적해($ \\textbf{X}$까지의 최소 거리) $ \\hat{X}^{*} $가 **존재**한다.\n",
    "#### $ \\Leftrightarrow{} \\exist{}! \\, \\hat{X}^{*} = \\Pi{}_{\\mathcal{V}}(\\textbf{X}) \\;\\; \\text{ s.t. } \\, \\mathbb{E}[||X-\\hat{X}^{*}||^{2}_{2}] \\leq{} \\mathbb{E}[||X-\\hat{X}||^{2}_{2}],\\;\\; \\hat{X} \\in{} \\mathcal{V}, \\;\\; \\mathcal{V} \\, \\text{ is closed subspace of } \\, L^{2}(\\Omega{}) $"
   ]
  },
  {
   "cell_type": "markdown",
   "id": "ddcf862b",
   "metadata": {},
   "source": [
    "##### **(`WHY?`)** \n",
    "##### $ \\hspace{0.15cm} $ **[LATEX]**"
   ]
  },
  {
   "cell_type": "markdown",
   "id": "e655fe52",
   "metadata": {},
   "source": [
    "#### **(2)** 최적해 $ \\hat{X}^{*} $의 오차 $ \\boldsymbol{\\epsilon{}} $은 부분 공간 $ \\mathcal{V} $와 직교한다\n",
    "#### $ \\Leftrightarrow{} <\\boldsymbol{\\epsilon{}},\\hat{X}> = \\mathbb{E}[(\\boldsymbol{\\epsilon{}})^{T}\\hat{X}] = 0 \\;\\; \\text{ where } \\, \\boldsymbol{\\epsilon{}} = \\textbf{X} - \\hat{X}^{*} $\n",
    "#### $ \\Leftrightarrow{} \\boldsymbol{\\epsilon{}} \\perp{} \\mathcal{V} $"
   ]
  },
  {
   "cell_type": "markdown",
   "id": "28f6a7a8",
   "metadata": {},
   "source": [
    "##### **(`WHY?`)** \n",
    "##### $ \\hspace{0.15cm} $ **[LATEX]**"
   ]
  },
  {
   "cell_type": "markdown",
   "id": "12c47e57",
   "metadata": {},
   "source": [
    "##### **(`PLUS`)** 유클리드 공간에서의 시각화\n",
    "##### $ \\hspace{0.15cm} $ <img src=\"../../img/01.2. MMSE (2).png\" align=\"center\" width=\"50%\" height=\"50%\"></img>  "
   ]
  },
  {
   "cell_type": "markdown",
   "id": "782cd1e0",
   "metadata": {},
   "source": [
    "#### **(3)** MMSE를 아래와 같이 표현할 수 있다.\n",
    "#### $ \\Leftrightarrow{} \\mathbb{E}[||\\boldsymbol{\\epsilon}||^{2}_{2}] = \\mathbb{E}[||\\textbf{X}||^{2}_{2}] - \\mathbb{E}[||\\hat{X}||^{2}_{2}] \\;\\; \\because{} \\text{pythagorean theorem} $"
   ]
  },
  {
   "cell_type": "markdown",
   "id": "dca314dd",
   "metadata": {},
   "source": [
    "#### **(4)** $\\mathcal{V_{2}} \\subset{} \\mathcal{V_{1}} $일 때, $ \\mathcal{V}_{1} $의 MSE가 $ \\mathcal{V}_{1} $의 MSE보다 크거나 작다.\n",
    "#### $ \\Leftrightarrow{} \\displaystyle{} \\min_{\\hat{X}\\in{}\\mathcal{V}_{1}}\\mathbb{E}[||\\mathbb{X}-\\hat{X}||^{2}_{2}] \\leq{} \\min_{\\hat{X}\\in{}\\mathcal{V}_{2}}\\mathbb{E}[||\\mathbb{X}-\\hat{X}||^{2}_{2}] \\;\\; \\text{ where } \\, \\mathcal{V}_{2} \\subset{} \\mathcal{V}_{1} $"
   ]
  },
  {
   "cell_type": "markdown",
   "id": "7877f5c2",
   "metadata": {},
   "source": [
    "##### **(`WHY?`)** \n",
    "##### $ \\hspace{0.15cm} $ **[LATEX]**"
   ]
  },
  {
   "cell_type": "markdown",
   "id": "ae42638e",
   "metadata": {},
   "source": [
    "#### **(5)** $\\mathcal{V_{2}} \\subset{} \\mathcal{V_{1}} $일 때, 오차 $ \\boldsymbol{\\epsilon{}} $을 두 부분으로 분해할 수 있다.\n",
    "#### $ \\Leftrightarrow{} \\boldsymbol{\\epsilon{}} = \\boldsymbol{\\epsilon{}}_{1} + \\boldsymbol{\\epsilon{}}_{2} \\;\\; \\text{ where } \\, \\boldsymbol{\\epsilon{}}_{1} := \\textbf{X} - \\Pi{}_{\\mathcal{V}_{1}}(\\textbf{X}), \\;\\; \\boldsymbol{\\epsilon{}}_{2} := \\Pi{}_{\\mathcal{V}_{1}}(\\textbf{X}) - \\Pi{}_{\\mathcal{V}_{2}}\\big({}\\Pi{}_{\\mathcal{V}_{1}}(\\textbf{X})\\big){}, \\;\\; \\mathcal{V}_{2} \\subset{} \\mathcal{V}_{1} $"
   ]
  },
  {
   "cell_type": "markdown",
   "id": "5daa09c4",
   "metadata": {},
   "source": [
    "##### **(`WHY?`)** \n",
    "##### $ \\hspace{0.15cm} $ **[LATEX]**"
   ]
  }
 ],
 "metadata": {
  "kernelspec": {
   "display_name": "PYTCH",
   "language": "python",
   "name": "python3"
  },
  "language_info": {
   "name": "python",
   "version": "3.12.11"
  }
 },
 "nbformat": 4,
 "nbformat_minor": 5
}
