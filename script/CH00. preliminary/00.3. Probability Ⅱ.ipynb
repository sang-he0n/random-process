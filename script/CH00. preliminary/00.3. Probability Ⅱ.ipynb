{
 "cells": [
  {
   "attachments": {},
   "cell_type": "markdown",
   "metadata": {},
   "source": [
    "# CH00.3. **Probability Ⅱ**"
   ]
  },
  {
   "cell_type": "markdown",
   "metadata": {},
   "source": [
    "> ## **확률 변수(Random Variable;RV)**"
   ]
  },
  {
   "cell_type": "markdown",
   "metadata": {},
   "source": [
    "#### **(1) 정의** : 확률 공간 $ (\\Omega{}, \\mathcal{F}, P) $와 가측 공간 $ \\big({}\\mathbb{R}, \\mathcal{B}(\\mathbb{R})\\big){} $을 매핑하는 가측 함수\n",
    "#### $ \\Rightarrow{} X : (\\Omega{},\\mathcal{F}, P) \\rightarrow{} \\big({}\\mathbb{R}, \\mathcal{B}(\\mathbb{R})\\big){} \\;\\; \\text{ s.t. } \\, X^{-1}(B) = \\{ \\omega{} \\in{} \\Omega{} : X(\\omega{}) \\in{} B \\} \\in{} \\mathcal{F}, \\;\\; \\forall{} B \\in{} \\mathcal{B}(\\mathbb{R}) $ "
   ]
  },
  {
   "cell_type": "markdown",
   "metadata": {},
   "source": [
    "<b></b>"
   ]
  },
  {
   "cell_type": "markdown",
   "metadata": {},
   "source": [
    "> ## **확률 변수의 분포(Distribution of R.V.;Pushforward Measure)**"
   ]
  },
  {
   "cell_type": "markdown",
   "metadata": {},
   "source": [
    "#### **(1) 정의** : 원 확률 측도 $ P $를 확률 변수 $ X $를 통해 가측 공간 $ (\\mathbb{R}, \\mathcal{B}(\\mathbb{R})) $ 안에서 정의된 확률 측도(measure;set function)\n",
    "#### $ \\Rightarrow{} P_{X}(B) := P(X \\in{} B) = P \\circ{} X^{-1} = P(X^{-1}(B)) \\;\\; \\text{ where } \\, B \\in{} \\mathcal{B}(\\mathbb{R}) $ "
   ]
  },
  {
   "cell_type": "markdown",
   "metadata": {},
   "source": [
    "#### **(2) 종류** : \n",
    "##### $ \\hspace{0.15cm} $ ① 누적 분포 함수(Cumulative Distribution Function)\n",
    "##### $ \\hspace{0.15cm} $ ② 확률 질량 함수(Probability Mass Function)\n",
    "##### $ \\hspace{0.15cm} $ ③ 확률 밀도 함수(Probability Density Function)\n",
    "##### $ \\hspace{0.15cm} $ ④ 혼합 분포()"
   ]
  },
  {
   "cell_type": "markdown",
   "metadata": {},
   "source": [
    "<b></b>"
   ]
  },
  {
   "cell_type": "markdown",
   "metadata": {},
   "source": [
    "> ## **누적 분포 함수(Cumulative Distribution Function;CDF)**"
   ]
  },
  {
   "cell_type": "markdown",
   "metadata": {},
   "source": [
    "#### **(1) 정의** : \n",
    "#### $  \\Rightarrow{} F_{X}(x) := P_{X}\\big({}(−∞,x]\\big){} = P(X<x) $"
   ]
  },
  {
   "cell_type": "markdown",
   "metadata": {},
   "source": [
    "#### **(2) 성질** : 어떠한 누적 분포 함수 $ F_{X}(x) $가 존재할 때 아래가 성립함\n",
    "##### $ \\hspace{0.15cm} $ ① $ x_{1} < x_{2} \\Rightarrow{} F_{X}(x_{1}) < F_{X}(x_{2}) \\;\\; \\cdots{} \\; $ (monotone non-decreasing)\n",
    "##### $ \\hspace{0.15cm} $ ② $ \\displaystyle{} \\lim_{x_{1}\\downarrow{}x}F_{X}(x_{2}) = F_{X}(x) \\hspace{1.245cm} \\;\\; \\cdots{} \\; $ (right-continuous) \n",
    "##### $ \\hspace{0.15cm} $ ③ $ \\displaystyle{} \\lim_{x\\rightarrow{}-\\infty{}}F_{X}(x) = 0, \\;\\; \\displaystyle{} \\lim_{x\\rightarrow{}+\\infty{}}F_{X}(x) = 1 $"
   ]
  },
  {
   "cell_type": "markdown",
   "metadata": {},
   "source": [
    "<b></b>"
   ]
  },
  {
   "cell_type": "markdown",
   "metadata": {},
   "source": [
    "> ## **확률 질량 함수(Probability Mass Function)**"
   ]
  },
  {
   "cell_type": "markdown",
   "metadata": {},
   "source": [
    "#### **(1) 정의** : 확률 변수의 지지 집합(support set)이 가산 집합인 확률 분포\n",
    "#### $ \\Rightarrow{} p_{X}(x) = p(X=x) \\;\\; \\text{ s.t. } \\, x \\in{} S = \\{ x \\in{} \\mathbb{R} : p_{X}(x) > 0 \\} $"
   ]
  },
  {
   "cell_type": "markdown",
   "metadata": {},
   "source": [
    "##### **(`PLUS`)** 확률 질량 함수는 누적 분포 함수의 형태가 계단 함수(step function)인 확률 분포로 정의할 수 있음"
   ]
  },
  {
   "cell_type": "markdown",
   "metadata": {},
   "source": [
    "<b></b>"
   ]
  },
  {
   "cell_type": "markdown",
   "metadata": {},
   "source": [
    "> ## **확률 밀도 함수(Probability Density Function;PDF)**"
   ]
  },
  {
   "cell_type": "markdown",
   "metadata": {},
   "source": [
    "#### **(1) 정의** : 르베그 측도에 절대 연속인 확률 분포\n",
    "#### $ \\Rightarrow{} f_{X}(x) := \\frac{\\text{d}}{\\text{d}x} F_{X}(x) \\;\\; \\text{ s.t. } \\, x \\in{} \\mathbb{R}, \\;\\; f_{X}(x) \\geq{} 0, \\;\\; \\displaystyle{} \\int^{\\infty{}}_{-\\infty{}}f_{X}(x) \\text{d}x = 1 $"
   ]
  },
  {
   "cell_type": "markdown",
   "metadata": {},
   "source": [
    "<b></b>"
   ]
  },
  {
   "cell_type": "markdown",
   "metadata": {},
   "source": [
    "> ## **기대값(Expectation)**"
   ]
  },
  {
   "cell_type": "markdown",
   "metadata": {},
   "source": [
    "<b></b>"
   ]
  },
  {
   "cell_type": "markdown",
   "metadata": {},
   "source": [
    "> ## **분산(Variance)**"
   ]
  },
  {
   "cell_type": "markdown",
   "metadata": {},
   "source": [
    "<b></b>"
   ]
  },
  {
   "cell_type": "markdown",
   "metadata": {},
   "source": [
    "> ## **적률 생성 함수(Moment Generating Function)**"
   ]
  },
  {
   "cell_type": "markdown",
   "metadata": {},
   "source": [
    "<b></b>"
   ]
  },
  {
   "cell_type": "markdown",
   "metadata": {},
   "source": [
    "> ## **특성 함수(Characteristic Function)**"
   ]
  }
 ],
 "metadata": {
  "kernelspec": {
   "display_name": "PYTCH",
   "language": "python",
   "name": "python3"
  },
  "language_info": {
   "codemirror_mode": {
    "name": "ipython",
    "version": 3
   },
   "file_extension": ".py",
   "mimetype": "text/x-python",
   "name": "python",
   "nbconvert_exporter": "python",
   "pygments_lexer": "ipython3",
   "version": "3.10.16"
  },
  "orig_nbformat": 4
 },
 "nbformat": 4,
 "nbformat_minor": 2
}
