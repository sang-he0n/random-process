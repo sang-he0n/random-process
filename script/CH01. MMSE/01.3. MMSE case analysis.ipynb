{
 "cells": [
  {
   "cell_type": "markdown",
   "id": "3fbd15f2",
   "metadata": {},
   "source": [
    "# CH01.3. **MMSE case analysis**"
   ]
  },
  {
   "cell_type": "markdown",
   "id": "8bb3bae9",
   "metadata": {},
   "source": [
    "> ## **자명 추정기(Trivial estimator)**"
   ]
  },
  {
   "cell_type": "markdown",
   "id": "39f6efca",
   "metadata": {},
   "source": [
    "#### **(1) 정의** : 확률 벡터 $ \\textbf{X} $가 부분공간 $ \\mathcal{V} $ 안에 포함되는 경우로 정의된 추정기\n",
    "#### $ \\Leftrightarrow{} \\hat{X}^{*} = \\textbf{X} \\;\\; \\text{ where } \\, \\textbf{X} \\in{} \\mathcal{V} $"
   ]
  },
  {
   "cell_type": "markdown",
   "id": "59cf0652",
   "metadata": {},
   "source": [
    "<b></b>"
   ]
  },
  {
   "cell_type": "markdown",
   "id": "2052678c",
   "metadata": {},
   "source": [
    "> ## **상수 추정기(Constant estimator)**"
   ]
  },
  {
   "cell_type": "markdown",
   "id": "021d9a6d",
   "metadata": {},
   "source": [
    "#### **(1) 정의** : 확률 벡터 $ \\textbf{X} $에 대한 추정기 $ \\hat{\\textbf{X}} $를 하나의 상수 벡터로 제한한 경우로 정의된 추정기\n",
    "#### $ \\Leftrightarrow{} \\hat{X}^{*} = \\displaystyle{} \\argmin_{\\hat{X}\\in{}\\mathcal{V}} \\mathbb{E}\\big[{}||\\textbf{X}-\\hat{X}||^{2}_{2}\\big]{} \\;\\; \\text{ where } \\, \\mathcal{V} := \\{ \\hat{X} \\in{} L^{2}(\\Omega{}) | \\hat{X} = \\textbf{c}, \\;\\; \\textbf{c} \\in{} \\mathbb{R}^{m} \\} $"
   ]
  },
  {
   "cell_type": "markdown",
   "id": "44363582",
   "metadata": {},
   "source": [
    "#### **(2) 최적해** : $ \\mathbb{E}[\\textbf{X}] $"
   ]
  },
  {
   "cell_type": "markdown",
   "id": "e488bfc8",
   "metadata": {},
   "source": [
    "##### **(`WHY?`)** \n",
    "##### $ \\hspace{0.15cm} $ **[LATEX]**"
   ]
  },
  {
   "cell_type": "markdown",
   "id": "c9697f37",
   "metadata": {},
   "source": [
    "<b></b>"
   ]
  },
  {
   "cell_type": "markdown",
   "id": "97e990af",
   "metadata": {},
   "source": [
    "> ## **선형 추정량(Linear estimator)**"
   ]
  },
  {
   "cell_type": "markdown",
   "id": "7d7fb1f1",
   "metadata": {},
   "source": [
    "#### **(1) 정의** : 확률 벡터 $ \\textbf{X} $에 대한 추정기 $ \\hat{\\textbf{X}} $를 $ \\textbf{Y} $의 선형 함수로 제한한 경우로 정의된 추정기\n",
    "#### $ \\Leftrightarrow{} \\hat{X}^{*} =\\displaystyle{} \\argmin_{\\hat{X}\\in{}\\mathcal{V}} \\mathbb{E}\\big[{}||\\textbf{X}-\\hat{X}||^{2}_{2}\\big]{} \\;\\; \\text{ where } \\, \\mathcal{V} := \\{ \\hat{X} \\in{} L^{2}(\\Omega{}) | \\hat{X} = A\\textbf{Y}+\\textbf{b}, \\;\\; A \\in{} \\mathbb{R}^{m\\times{}n}, \\;\\; \\textbf{b} \\in{} \\mathbb{R}^{m} \\} $"
   ]
  },
  {
   "cell_type": "markdown",
   "id": "67ce7936",
   "metadata": {},
   "source": [
    "##### **(`PLUS`)** 일반적으로 $ \\textbf{X} $를 알고자 하나 직접 관측할 수 없는 확률 벡터(target R.V.), $ \\textbf{Y} $를 관측 가능한 확률 벡터(observation R.V)로 설정함 "
   ]
  },
  {
   "cell_type": "markdown",
   "id": "c3d55ee2",
   "metadata": {},
   "source": [
    "#### **(2) 최적해** : \n",
    "#### $ \\Leftrightarrow{} \\textbf{X}^{*} = A^{*} \\textbf{Y} + \\textbf{b}^{*} $\n",
    "#### $ \\text{where } \\, A^{*} = \\text{cov}(\\textbf{X},\\textbf{Y})\\text{cov}(\\textbf{Y},\\textbf{Y})^{-1} \\;\\; \\text{ s.t. } \\, \\text{cov}(\\textbf{Y},\\textbf{Y})^{-1} \\, \\text{ is invertible}. $\n",
    "#### $ \\hspace{0.35cm} \\text{and } \\, \\textbf{b}^{*} = \\mathbb{E}[\\textbf{X}] - A \\mathbb{E}[\\textbf{Y}] $"
   ]
  },
  {
   "cell_type": "markdown",
   "id": "2e97165f",
   "metadata": {},
   "source": [
    "##### **(`WHY?`)** \n",
    "##### $ \\hspace{0.15cm} $ **[LATEX]**"
   ]
  },
  {
   "cell_type": "markdown",
   "id": "30c48e8d",
   "metadata": {},
   "source": [
    "<b></b>"
   ]
  },
  {
   "cell_type": "markdown",
   "id": "62094685",
   "metadata": {},
   "source": [
    "> ## **비선형 추정량(Non-linear estimator)**"
   ]
  },
  {
   "cell_type": "markdown",
   "id": "fcf7c302",
   "metadata": {},
   "source": [
    "#### **(1) 정의** : 확률 벡터 $ \\textbf{X} $에 대한 추정기 $ \\hat{\\textbf{X}} $를 $ \\textbf{Y} $의 비선형 함수로 제한한 경우로 정의된 추정기\n",
    "#### $ \\Leftrightarrow{} \\hat{X}^{*} = \\displaystyle{} \\argmin_{\\hat{X}\\in{}\\mathcal{V}} \\mathbb{E}\\big[{}||\\textbf{X}-\\hat{X}||^{2}_{2}\\big]{} \\;\\; \\text{ where } \\, \\mathcal{V} := \\{ \\hat{X} \\in{} L^{2}(\\Omega{}) | \\hat{X} = g(\\textbf{Y}), \\;\\; g : \\mathbb{R}^{n} \\rightarrow{} \\mathbb{R}^{m}, \\;\\; g(\\cdot{}) \\, \\text{ is measurable}. \\} $"
   ]
  },
  {
   "cell_type": "markdown",
   "id": "759fa393",
   "metadata": {},
   "source": [
    "#### **(2) 최적해** : $ \\mathbb{E}[\\textbf{X}|\\textbf{Y}] $"
   ]
  },
  {
   "cell_type": "markdown",
   "id": "9bbd00f4",
   "metadata": {},
   "source": [
    "##### **(`WHY?`)** \n",
    "##### $ \\hspace{0.15cm} $ **[LATEX]**"
   ]
  },
  {
   "cell_type": "markdown",
   "id": "834ae02b",
   "metadata": {},
   "source": [
    "<b></b>"
   ]
  },
  {
   "cell_type": "markdown",
   "id": "591ec6a1",
   "metadata": {},
   "source": [
    "> ## **(Theorem 1-4)** _"
   ]
  },
  {
   "cell_type": "markdown",
   "id": "7a3bbff7",
   "metadata": {},
   "source": [
    "#### 정규분포 하에서의 LMMSE는 MMSE와 동일\n",
    "#### $ \\Leftrightarrow{} $"
   ]
  }
 ],
 "metadata": {
  "kernelspec": {
   "display_name": "PYTCH",
   "language": "python",
   "name": "python3"
  },
  "language_info": {
   "name": "python",
   "version": "3.12.11"
  }
 },
 "nbformat": 4,
 "nbformat_minor": 5
}
