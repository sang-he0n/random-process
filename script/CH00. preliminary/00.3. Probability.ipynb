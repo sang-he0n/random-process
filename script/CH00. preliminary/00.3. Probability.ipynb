{
 "cells": [
  {
   "attachments": {},
   "cell_type": "markdown",
   "metadata": {},
   "source": [
    "# CH00.2. **Probability**"
   ]
  },
  {
   "cell_type": "markdown",
   "metadata": {},
   "source": [
    "> ## **확률론(Probability Theory)**"
   ]
  },
  {
   "cell_type": "markdown",
   "metadata": {},
   "source": [
    "#### **(1) 정의** : 확률의 무작위적 현상을 수학적으로 모델링하는 방법"
   ]
  },
  {
   "cell_type": "markdown",
   "metadata": {},
   "source": [
    "<b></b>"
   ]
  },
  {
   "cell_type": "markdown",
   "metadata": {},
   "source": [
    "> ## **확률 실험(Probabilistic Experiment)**"
   ]
  },
  {
   "cell_type": "markdown",
   "metadata": {},
   "source": [
    "#### **(1) 무작위 실험(Random Experiments)** : 동일한 조건에서 반복하더라도 결과를 확실하게 예측할 수 없는 실험"
   ]
  },
  {
   "cell_type": "markdown",
   "metadata": {},
   "source": [
    "#### **(2) 시행(Trial)** : 무작위 실험을 한 번 수행하는 행위"
   ]
  },
  {
   "cell_type": "markdown",
   "metadata": {},
   "source": [
    "#### **(3) 결과(Outcome)** : 시행을 했을 때 실제로 관찰되는 단일한 결과"
   ]
  },
  {
   "cell_type": "markdown",
   "metadata": {},
   "source": [
    "<b></b>"
   ]
  },
  {
   "cell_type": "markdown",
   "metadata": {},
   "source": [
    "> ## **표본 공간(Sample Space; $ \\Omega{} $)**"
   ]
  },
  {
   "cell_type": "markdown",
   "metadata": {},
   "source": [
    "#### **(1) 정의** : 가능한 모든 결과들의 집합\n",
    "#### $ \\hspace{1.175cm} \\Omega{} = \\{ \\text{outcome}_{1}, \\text{outcome}_{2}, \\cdots{} \\} $"
   ]
  },
  {
   "cell_type": "markdown",
   "metadata": {},
   "source": [
    "<b></b>"
   ]
  },
  {
   "cell_type": "markdown",
   "metadata": {},
   "source": [
    "> ## **사건(Evenet)**"
   ]
  },
  {
   "cell_type": "markdown",
   "metadata": {},
   "source": [
    "#### **(1) 정의** : 표본 공간에 대응되는 시그마-공간 $ \\mathcal{F} $의 원소\n",
    "#### $ \\hspace{1.175cm} A \\in{} \\mathcal{F} \\;\\; \\text{ where } \\, \\mathcal{F} \\subseteq 2^{\\Omega{}}, \\;\\; \\Omega{} : \\text{sample space} $ "
   ]
  },
  {
   "cell_type": "markdown",
   "metadata": {},
   "source": [
    "<b></b>"
   ]
  },
  {
   "cell_type": "markdown",
   "metadata": {},
   "source": [
    "> ## **확률 측도(Probability Measure)**"
   ]
  },
  {
   "cell_type": "markdown",
   "metadata": {},
   "source": [
    "#### **(1) 정의** : 어떠한 표본 공간의 시그마-공간 $ \\mathcal{F} $을 $ 0 $과 $ 1 $ 사이를 매핑하며 표본 공간을 $ 1 $로 정규화하는 반환하는 집합 함수\n",
    "#### $ \\hspace{1.175cm} P : \\mathcal{F} \\rightarrow{} [0, 1] $"
   ]
  },
  {
   "cell_type": "markdown",
   "metadata": {},
   "source": [
    "#### **(2) 공리** : 어떠한 시그마-공간 $ \\mathcal{F} $에 대응되는 측도 $ P $가 존재할 때 아래를 만족해야함\n",
    "##### $ \\hspace{0.15cm} $ ① $ P(A) \\geq{} 0 \\;\\; \\forall{} \\, A \\in{} \\mathcal{F} $\n",
    "##### $ \\hspace{0.15cm} $ ② $ P(\\empty{}) = 0 $ \n",
    "##### $ \\hspace{0.15cm} $ ③ $ P(\\Omega{}) = 1 $ \n",
    "##### $ \\hspace{0.15cm} $ ④ $ \\displaystyle{} P(\\cup^{\\infty{}}_{i=1}A_{i}) = \\sum^{\\infty{}}_{i=1} P(A_{i}) \\;\\; \\text{ s.t. } A_{i} \\cap{} A_{j} = \\empty{} $ "
   ]
  },
  {
   "cell_type": "markdown",
   "metadata": {},
   "source": [
    "<b></b>"
   ]
  },
  {
   "cell_type": "markdown",
   "metadata": {},
   "source": [
    "> ## **확률 공간(Probability Space)**"
   ]
  },
  {
   "cell_type": "markdown",
   "metadata": {},
   "source": [
    "#### **(1) 정의** : 표본 공간과 이에 대응되는 시그마-공간, 확률 측도로 구성된 객체\n",
    "#### $ \\hspace{1.175cm} (\\Omega{}, \\mathcal{F}, P) $ "
   ]
  },
  {
   "cell_type": "markdown",
   "metadata": {},
   "source": [
    "<b></b>"
   ]
  },
  {
   "cell_type": "markdown",
   "metadata": {},
   "source": [
    "> ## **독립(Independence)**"
   ]
  },
  {
   "cell_type": "markdown",
   "metadata": {},
   "source": [
    "<b></b>"
   ]
  },
  {
   "cell_type": "markdown",
   "metadata": {},
   "source": [
    "> ## **조건부 확률(Conditional Probability)**"
   ]
  },
  {
   "cell_type": "markdown",
   "metadata": {},
   "source": [
    "<b></b>"
   ]
  },
  {
   "cell_type": "markdown",
   "metadata": {},
   "source": [
    "> ## **베이즈 정리(Bayes's Rule)**"
   ]
  },
  {
   "cell_type": "markdown",
   "metadata": {},
   "source": [
    "<b></b>"
   ]
  },
  {
   "cell_type": "markdown",
   "metadata": {},
   "source": [
    "> ## **확률 변수(Random Variable;RV)**"
   ]
  },
  {
   "cell_type": "markdown",
   "metadata": {},
   "source": [
    "<b></b>"
   ]
  },
  {
   "cell_type": "markdown",
   "metadata": {},
   "source": [
    "> ## **분포(Distribtuion)**"
   ]
  },
  {
   "cell_type": "markdown",
   "metadata": {},
   "source": [
    "<b></b>"
   ]
  },
  {
   "cell_type": "markdown",
   "metadata": {},
   "source": [
    "> ## **특성 함수(Characteristic Function)**"
   ]
  },
  {
   "cell_type": "markdown",
   "metadata": {},
   "source": [
    "<b></b>"
   ]
  },
  {
   "cell_type": "markdown",
   "metadata": {},
   "source": [
    "> ## **결합 확률 변수(Joint RV)**"
   ]
  },
  {
   "cell_type": "markdown",
   "metadata": {},
   "source": [
    "<b></b>"
   ]
  }
 ],
 "metadata": {
  "kernelspec": {
   "display_name": "PYTCH",
   "language": "python",
   "name": "python3"
  },
  "language_info": {
   "codemirror_mode": {
    "name": "ipython",
    "version": 3
   },
   "file_extension": ".py",
   "mimetype": "text/x-python",
   "name": "python",
   "nbconvert_exporter": "python",
   "pygments_lexer": "ipython3",
   "version": "3.10.16"
  },
  "orig_nbformat": 4
 },
 "nbformat": 4,
 "nbformat_minor": 2
}
