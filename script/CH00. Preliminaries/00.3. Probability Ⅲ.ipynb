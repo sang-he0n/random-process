{
 "cells": [
  {
   "attachments": {},
   "cell_type": "markdown",
   "metadata": {},
   "source": [
    "# CH00.3. **Probability Ⅲ**"
   ]
  },
  {
   "cell_type": "markdown",
   "metadata": {},
   "source": [
    "> ## **결합 확률 분포(Joint probability distribution)**"
   ]
  },
  {
   "cell_type": "markdown",
   "metadata": {},
   "source": [
    "#### **(1) 정의** : **[~]** \n",
    "#### $ \\Rightarrow{} P_{X_{1},\\cdots{},X_{n}}(x_{1},\\cdots{},x_{n}) = \\begin{cases} F_{X_{1},\\cdots{},X_{n}}(x_{1},\\cdots{},x_{n}) = P(X_{1}\\leq{}x_{1},\\cdots{},X_{n}\\leq{}x_{n}) & \\text{if } \\, X \\, \\text{ has joint cdf }. \\\\ p_{X_{1},\\cdots{},X_{n}}(x_{1},\\cdots{},x_{n}) =  P(X_{1}=x_{1},\\cdots{}, X_{n}=x_{n}) & \\text{if } \\, X \\, \\text{ has joint pmf }. \\\\ f_{X_{1},\\cdots{},X_{n}}(x_{1},\\cdots{},x_{n}) = \\frac{\\partial{}^{n}}{\\partial{}x_{1} \\partial{}x_{2} \\cdots{} \\partial{}x_{n}} F_{X_{1},\\cdots{},X_{n}}(x_{1},\\cdots{},x_{n}) & \\text{if } \\, X \\, \\text{ has joint pdf }. \\end{cases} $ "
   ]
  },
  {
   "cell_type": "markdown",
   "metadata": {},
   "source": [
    "<b></b>"
   ]
  },
  {
   "cell_type": "markdown",
   "metadata": {},
   "source": [
    "> ## **주변 확률 분포(Marginal probability distribution)**"
   ]
  },
  {
   "cell_type": "markdown",
   "metadata": {},
   "source": [
    "#### **(1) 정의** : **[~]**\n",
    "#### $ \\Rightarrow{} P_{X_{1}}(x_{1}) = \\begin{cases} F_{X_{1}}(x_{1}) = \\displaystyle{} \\sum_{x_{2}}\\cdots{}\\sum_{x_{n}} P(X_{1}\\leq{}x_{1},\\cdots{},X_{n}\\leq{}x_{n}) & \\text{if } \\, X \\, \\text{ has joint cdf }. \\\\ p_{X_{1}}(x_{1}) =  \\displaystyle{} \\sum_{x_{2}}\\cdots{}\\sum_{x_{n}} p_{X_{1},\\cdots{},X_{n}}(x_{1},  \\cdots{}, x_{n}) & \\text{if } \\, X \\, \\text{ has joint pmf }. \\\\ f_{X_{1}}(x_{1}) = \\displaystyle{} \\int^{\\infty{}}_{-\\infty{}}\\cdots{}\\int^{\\infty{}}_{-\\infty{}} f_{X_{1},\\cdots{},X_{n}}(x_{1},  \\cdots{}, x_{n}) \\text{d}x_{2:n} & \\text{if } \\, X \\, \\text{ has joint pdf }. \\end{cases} $ "
   ]
  },
  {
   "cell_type": "markdown",
   "metadata": {},
   "source": [
    "<b></b>"
   ]
  },
  {
   "cell_type": "markdown",
   "metadata": {},
   "source": [
    "> ## **조건부 확률 분포(Conditional probability distribution)**"
   ]
  },
  {
   "cell_type": "markdown",
   "metadata": {},
   "source": [
    "#### **(1) 정의** : **[~]**\n",
    "#### $ \\Rightarrow{} P_{X|Y}(x_{1}|y_{1}) = \\begin{cases} F_{X|Y}(x|y) = \\frac{F_{X,Y}(x, y)}{F_{Y}(y)} & \\text{if } \\, X \\, \\text{ has joint cdf }. \\\\ p_{X|Y}(x|y) = \\frac{p_{X,Y}(x, y)}{f_{Y}(y)} & \\text{if } \\, X \\, \\text{ has joint pmf }. \\\\ f_{X|Y}(x|y) = \\frac{f_{X,Y}(x, y)}{f_{Y}(y)} & \\text{if } \\, X \\, \\text{ has joint pdf }. \\end{cases} $"
   ]
  },
  {
   "cell_type": "markdown",
   "metadata": {},
   "source": [
    "<b></b>"
   ]
  },
  {
   "cell_type": "markdown",
   "metadata": {},
   "source": [
    "> ## **(Theorem 0-)** Law of total expectation"
   ]
  },
  {
   "cell_type": "markdown",
   "metadata": {},
   "source": [
    "#### **[~]**\n",
    "#### $ \\Rightarrow{} \\mathbb{E}\\big[{}\\mathbb{E}[X|Y]\\big]{} = \\mathbb{E}[X] $"
   ]
  },
  {
   "cell_type": "markdown",
   "metadata": {},
   "source": [
    "<b></b>"
   ]
  },
  {
   "cell_type": "markdown",
   "metadata": {},
   "source": [
    "> ## **공분산(Covariance)**"
   ]
  },
  {
   "cell_type": "markdown",
   "metadata": {},
   "source": [
    "#### **(1) 정의** : **[~]**\n",
    "#### $ \\Rightarrow{} \\text{cov}(X,Y) = \\mathbb{E}[(X-E[X])(Y-E[Y])] = \\mathbb{E}[XY] - \\mathbb{E}[X]\\mathbb{E}[Y] $"
   ]
  }
 ],
 "metadata": {
  "kernelspec": {
   "display_name": "PYTCH",
   "language": "python",
   "name": "python3"
  },
  "language_info": {
   "codemirror_mode": {
    "name": "ipython",
    "version": 3
   },
   "file_extension": ".py",
   "mimetype": "text/x-python",
   "name": "python",
   "nbconvert_exporter": "python",
   "pygments_lexer": "ipython3",
   "version": "3.10.16"
  },
  "orig_nbformat": 4
 },
 "nbformat": 4,
 "nbformat_minor": 2
}
