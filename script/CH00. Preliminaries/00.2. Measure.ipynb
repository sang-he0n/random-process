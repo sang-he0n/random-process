{
 "cells": [
  {
   "attachments": {},
   "cell_type": "markdown",
   "metadata": {},
   "source": [
    "# CH00.2. **Measure**"
   ]
  },
  {
   "cell_type": "markdown",
   "metadata": {},
   "source": [
    "> ## **측도론(Meaure theory)**"
   ]
  },
  {
   "cell_type": "markdown",
   "metadata": {},
   "source": [
    "#### **(1) 정의** : 길이, 넓이, 부피, 확률 등 크기(size) 개념을 집합에 일반화해서 할당하는 이론"
   ]
  },
  {
   "cell_type": "markdown",
   "metadata": {},
   "source": [
    "<b></b>"
   ]
  },
  {
   "cell_type": "markdown",
   "metadata": {},
   "source": [
    "> ## **시그마-대수($\\sigma{}$-algebra)**"
   ]
  },
  {
   "cell_type": "markdown",
   "metadata": {},
   "source": [
    "#### **(1) 정의** : 어떠한 집합 $ U $를 측정 간으한 집합들로 정의하기 위한 그 집합의 모임(Set of sets;collection)\n",
    "#### $ \\Rightarrow{} \\mathcal{F} := 2^{U} $ "
   ]
  },
  {
   "cell_type": "markdown",
   "metadata": {},
   "source": [
    "##### **(`PLUS`)** $ 2^{\\text{set}} $은 멱집합(pwoer set)을 의미함"
   ]
  },
  {
   "cell_type": "markdown",
   "metadata": {},
   "source": [
    "#### **(2) 공리** : 어떠한 집합 $ U $에 대응되는 시그마-대수 $ \\mathcal{F} $가 존재할 때 아래를 만족해야함\n",
    "##### $ \\hspace{0.15cm} $ ① $ \\mathcal{B} \\ni{} \\empty{} $ \n",
    "##### $ \\hspace{0.15cm} $ ② $ A \\in{} B \\Rightarrow{} A^{c} \\in{} \\mathcal{F} $ \n",
    "##### $ \\hspace{0.15cm} $ ③ $ A_{i} \\in{} B \\Rightarrow{} \\displaystyle{} \\cup^{\\infty{}}_{i=1} A_{i} \\in{} \\mathcal{F} $"
   ]
  },
  {
   "cell_type": "markdown",
   "metadata": {},
   "source": [
    "#### **(3) 성질** : 어떠한 집합 $ U $에 대응되는 시그마-대수 $ \\mathcal{F} $가 존재할 때 아래를 만족함\n",
    "##### $ \\hspace{0.15cm} $ ① $ U \\in{} \\mathcal{F} $\n",
    "##### $ \\hspace{0.15cm} $ ② $ A, B \\in{} \\mathcal{F} \\Rightarrow{} \\displaystyle{} (A \\cup{} B) \\in{} \\mathcal{F} $\n",
    "##### $ \\hspace{0.15cm} $ ③ $ A_{i} \\in{} \\mathcal{F} \\Rightarrow{} \\displaystyle{} \\cap^{\\infty{}}_{i=1} A_{i} \\in{} \\mathcal{F} $\n",
    "##### $ \\hspace{0.15cm} $ ④ **[LATEX]**\n",
    "##### $ \\hspace{0.15cm} $ ⑤ **[LATEX]**"
   ]
  },
  {
   "cell_type": "markdown",
   "metadata": {},
   "source": [
    "<b></b>"
   ]
  },
  {
   "cell_type": "markdown",
   "metadata": {},
   "source": [
    "> ## **보렐 시그마-대수(Borel $ \\sigma{} $-algebra)**"
   ]
  },
  {
   "cell_type": "markdown",
   "metadata": {},
   "source": [
    "#### **(1) 정의** : 실수 범위 안에서 열린구간들을 시작으로, 여집합과 가산 합집합·교집합을 반복해서 만들 수 있는 집합들의 모임\n",
    "#### $ = $ 어떠한 열린 구간 $ (a, b) $를 포함하는 가장 작은 시그마-대수\n",
    "#### $ \\Rightarrow{} \\mathcal{B}(\\mathbb{R}) := \\sigma{}({(a, b) \\subseteq{} \\mathbb{R}  \\; : \\; a<b, \\;\\;  a, b \\in{} \\mathbb{R}}) \\;\\; \\text{ where } \\, \\sigma{}(\\cdot{}) : \\text{ generate operator} $ "
   ]
  },
  {
   "cell_type": "markdown",
   "metadata": {},
   "source": [
    "<b></b>"
   ]
  },
  {
   "cell_type": "markdown",
   "metadata": {},
   "source": [
    "> ## **가측 공간(Measurable space)**"
   ]
  },
  {
   "cell_type": "markdown",
   "metadata": {},
   "source": [
    "#### **(1) 정의** : 어떠한 집합과 그 집합과 대응되는 시그마-공간으로 구성된 객체(튜플)\n",
    "#### $ \\Rightarrow{} (A, \\mathcal{F}) $ "
   ]
  },
  {
   "cell_type": "markdown",
   "metadata": {},
   "source": [
    "<b></b>"
   ]
  },
  {
   "cell_type": "markdown",
   "metadata": {},
   "source": [
    "> ## **가측성(Measurability)**"
   ]
  },
  {
   "cell_type": "markdown",
   "metadata": {},
   "source": [
    "#### **(1) 정의** : 두 가측 공간을 매핑하는 함수 $ f $가 존재할 때, $ \\, f $의 역상(preimage)가 정의역(domain)의 시그마 대수 안에 포함되는 성질\n",
    "#### $ \\Rightarrow{} f^{-1}(G) \\in{} \\mathcal{F} \\;\\; \\text{ where } \\, f : (A, \\mathcal{F}) \\rightarrow{} (B, \\mathcal{G}), \\;\\; \\, \\mathcal{F}, \\mathcal{G} \\, \\text{ are } \\,\\sigma{}-\\text{alegbras} $"
   ]
  },
  {
   "cell_type": "markdown",
   "metadata": {},
   "source": [
    "<b></b>"
   ]
  },
  {
   "cell_type": "markdown",
   "metadata": {},
   "source": [
    "> ## **측도(Measure)**"
   ]
  },
  {
   "cell_type": "markdown",
   "metadata": {},
   "source": [
    "#### **(1) 정의** : 어떠한 가측 공간에서 시그마-공간의 원소를 사용하여 비음수 실수 스칼라를 반환하는 집합 함수(set function)\n",
    "#### $ = $ 집합의 크기를 산정하는 함수\n",
    "#### $ \\Rightarrow{} \\mu{} : \\mathcal{B} \\rightarrow{} [0, \\infty{} ] $"
   ]
  },
  {
   "cell_type": "markdown",
   "metadata": {},
   "source": [
    "#### **(2) 공리** : 어떠한 시그마-공간 $ \\mathcal{B} $에 대응되는 측도 $ \\mu{} $가 존재할 때 아래를 만족해야함\n",
    "##### $ \\hspace{0.15cm} $ ① $ \\mu{}(A) \\geq{} 0 \\;\\; \\forall{} \\, A \\in{} \\mathcal{B} $\n",
    "##### $ \\hspace{0.15cm} $ ② $ \\mu{}(\\empty{}) = 0 $ \n",
    "##### $ \\hspace{0.15cm} $ ③ $ \\displaystyle{} \\mu{}(\\cup^{\\infty{}}_{i=1}A_{i}) = \\sum^{\\infty{}}_{i=1} \\mu{}(A_{i}) \\;\\; \\text{ s.t. } \\, A_{i} \\cap{} A_{j} = \\empty{} $ "
   ]
  },
  {
   "cell_type": "markdown",
   "metadata": {},
   "source": [
    "<b></b>"
   ]
  },
  {
   "cell_type": "markdown",
   "metadata": {},
   "source": [
    "> ## **르베그 측도(Lebesgue measure)**"
   ]
  },
  {
   "cell_type": "markdown",
   "metadata": {},
   "source": [
    "#### **(1) 정의** : 보렐 시그마-대수 위의 집합들의 길이를 정의하는 측도\n",
    "#### $ \\Rightarrow{} \\lambda{} : \\mathcal{B}(\\mathbb{R}) \\rightarrow{} [0, \\infty{}] $"
   ]
  },
  {
   "cell_type": "markdown",
   "metadata": {},
   "source": [
    "#### **(2) 성질** : 르베그 측도 $ \\lambda{} $와 보렐 시그마-대수 위에 있는 집합 $ A $가 존재할 때 아래가 성립함\n",
    "##### $ \\hspace{0.15cm} $ ① $ \\lambda{}([a, b]) = b - a $\n",
    "##### $ \\hspace{0.15cm} $ ② $ \\lambda{}(A+t) = \\lambda{}(A) \\;\\; \\text{ where } \\, A+c := \\{ x+t | x \\in{} A \\} \\;\\; \\cdots{} \\, \\text{translation} $ \n",
    "##### $ \\hspace{0.15cm} $ ③ $ \\lambda{}(cA) = \\lambda{}(A) \\;\\; \\text{ where } \\, A+c := \\{ cx | x \\in{} A \\} \\hspace{0.8125cm} \\;\\; \\cdots{} \\, \\text{scaling} $ "
   ]
  },
  {
   "cell_type": "markdown",
   "metadata": {},
   "source": [
    "<b></b>"
   ]
  },
  {
   "cell_type": "markdown",
   "metadata": {},
   "source": [
    "> ## **측도 공간(Measure space)**"
   ]
  },
  {
   "cell_type": "markdown",
   "metadata": {},
   "source": [
    "#### **(1) 정의** : 어떠한 집합과 그 집합과 대응되는 시그마-공간, 측도와 함께 구성된 객체(튜플)\n",
    "#### $ \\Rightarrow{} (\\Omega{}, \\mathcal{B}, \\mu{}) $ "
   ]
  }
 ],
 "metadata": {
  "kernelspec": {
   "display_name": "PYTCH",
   "language": "python",
   "name": "python3"
  },
  "language_info": {
   "codemirror_mode": {
    "name": "ipython",
    "version": 3
   },
   "file_extension": ".py",
   "mimetype": "text/x-python",
   "name": "python",
   "nbconvert_exporter": "python",
   "pygments_lexer": "ipython3",
   "version": "3.10.16"
  },
  "orig_nbformat": 4
 },
 "nbformat": 4,
 "nbformat_minor": 2
}
